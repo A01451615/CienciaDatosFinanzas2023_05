{
 "cells": [
  {
   "cell_type": "markdown",
   "id": "03e1573e-f5b4-4f24-91f4-67e2e688eb71",
   "metadata": {},
   "source": [
    "# <font color='#2B17B0'>CIENCIA DE DATOS APLICADA A FINANZAS</font>\n",
    "Sesión 7, 2022-05-29<br>\n",
    "Carlos Crespo Elizondo<br>\n",
    "EGADE BUSINESS SCHOOL"
   ]
  },
  {
   "cell_type": "code",
   "execution_count": null,
   "id": "bc46f1ac-424c-4ddb-b54c-108ce0235bdd",
   "metadata": {},
   "outputs": [],
   "source": []
  },
  {
   "cell_type": "markdown",
   "id": "c81a0096-8ba1-475e-bf6f-03deee75ca63",
   "metadata": {},
   "source": [
    "# <font color='#2B17B0'>Indice de Precios y Cotizaciones - \"IPC\" S&P BMV -</font>\n"
   ]
  },
  {
   "cell_type": "markdown",
   "id": "e4973c09-61f9-4db4-a988-507a2d7e067e",
   "metadata": {},
   "source": [
    "> _\"El S&P/BMV IPC busca medir el desempeño de las acciones de mayor tamaño y liquidez listadas en la BMV. Su objetivo es proporcionar un índice amplio, representativo, que abarque el mercado bursátil mexicano. Los componentes del índice son ponderados por capitalización de mercado modificada, sujetos a requisitos de diversificación.\"_<br><br>https://www.spglobal.com/spdji/es/indices/equity/sp-bmv-ipc/#overview\n"
   ]
  },
  {
   "cell_type": "markdown",
   "id": "2a728335-5148-4605-a56d-06720697fc13",
   "metadata": {},
   "source": [
    "### Universo\n",
    "> \"_Los constituyentes deben de ser acciones listadas en la BMV, excluyendo los Fideicomisos de Inversión en Bienes Raíces (FIBRAS) y los Fideicomisos hipotecarios._\""
   ]
  },
  {
   "cell_type": "markdown",
   "id": "5ca6bf11-bf72-48d8-bcc4-be6edbc8a0fb",
   "metadata": {},
   "source": [
    "### Historial de Operación\n",
    "> _\"Deben de cumplir con el siguiente criterio:\"_\n",
    "> * Las acciones deben de tener un historial de negociación por lo menos de tres meses\n",
    "> * Las acciones deberion de haber operado por lo menos en el 95% de los días de los últimos seis meses\n",
    "> * Si las acciones tienen menos de seis meses de historial, se aplica al 95% de los días operados"
   ]
  },
  {
   "cell_type": "markdown",
   "id": "73a22c63-8e5c-46a1-94aa-82c899c405f3",
   "metadata": {},
   "source": [
    "|Emisora|Ticker|Ticker Y!F|\n",
    "|:-|:-|:-|\n",
    "|\"Indice de Precios y Cotizaciones\"|IPC|^MXX|\n",
    "|Alfa A|ALFAA|ALFAA.MX|\n",
    "|Alsea A|ALSEA|ALSEA.MX|\n",
    "|America Movil  B|AMXB|AMXB.MX| \n",
    "|Arca Continental|AC|AC.MX| \n",
    "|Banco del Bajio|BBAJIOO|BBAJIOO.MX| \n",
    "|Becle |CUERVO|CUERVO.MX| \n",
    "|Bolsa Mexicana de Valores |BOLSAA|BOLSAA.MX| \n",
    "|Cemex CPO|CEMEXCPO|CEMEXCPO.MX| \n",
    "|Coca-Cola Femsa  UBL|KOFUBL|KOFUBL.MX| \n",
    "|Controladora Vuela Compania de Aviacion |VOLARA|VOLARA.MX| \n",
    "|Corporacion Inmobiliaria VestaB. |VESTA|VESTA.MX| \n",
    "|El Puerto de Liverpool |LIVEPOLC-1|LIVEPOLC-1.MX| \n",
    "|Fomento Economico Mexicano |FEMSAUBD|FEMSAUBD.MX| \n",
    "|Genomma Lab Internacional |LABB|LABB.MX| \n",
    "|Gentera |GENTERA|GENTERA.MX| \n",
    "|Gruma SAB B|GRUMAB|GRUMAB.MX| \n",
    "|Grupo Aeroportuario del Centro NorteB. |OMAB|OMAB.MX| \n",
    "|Grupo Aeroportuario del PacificoB. |GAPB|GAPB.MX| \n",
    "|Grupo Aeroportuario del Sureste  B|ASURB|ASURB.MX| \n",
    "|Grupo Bimbo S.A.B.|BIMBOA|BIMBOA.MX| \n",
    "|Grupo Carso |GCARSOA1|GCARSOA1.MX| \n",
    "|Grupo Cementos de Chihuahua |GCC|GCC.MX| \n",
    "|Grupo Elektra |ELEKTRA|ELEKTRA.MX| \n",
    "|Grupo Financiero Banorte O|GFNORTEO|GFNORTEO.MX| \n",
    "|Grupo Financiero Inbursa O|GFINBURO|GFINBURO.MX| \n",
    "|Grupo Mexico  B|GMEXICOB|GMEXICOB.MX| \n",
    "|Grupo Televisa  CPO|TLEVISACPO|TLEVISACPO.MX| \n",
    "|Industrias Penoles|PE&OLES|PE&OLES.MX| \n",
    "|Kimberly Clark de Mexico  A|KIMBERA|KIMBERA.MX| \n",
    "|Megacable Holdings |MEGACPO|MEGACPO.MX| \n",
    "|ORBIA ADVANCE CORPORATION |ORBIA|ORBIA.MX| \n",
    "|Promotora y Operadora de Infraestructura |PINFRA|PINFRA.MX| \n",
    "|Qualitas Controladora|Q|Q.MX| \n",
    "|Regional |RA|RA.MX| \n",
    "|Walmart de Mexico |WALMEX|WALMEX.MX|"
   ]
  },
  {
   "cell_type": "markdown",
   "id": "942c4cfe-db34-4c08-8f30-178bc7999fd6",
   "metadata": {
    "tags": []
   },
   "source": [
    "# <font color='#2B17B0'>Precios Yahoo Finance</font>"
   ]
  },
  {
   "cell_type": "markdown",
   "id": "d46edcdc-9967-443c-8851-5205307d8167",
   "metadata": {},
   "source": [
    "### Como obtener los precios de Y!Finance?"
   ]
  },
  {
   "cell_type": "markdown",
   "id": "0dfeadf2-3f29-4b7d-96fe-7271d7832be7",
   "metadata": {},
   "source": [
    "## <font color='#2B17B0'>UNIX Epoch Time</font>\n"
   ]
  },
  {
   "cell_type": "markdown",
   "id": "d7cfa6c2-061b-4999-926f-87615fe39e99",
   "metadata": {},
   "source": [
    "> _\"Son los segundos que han pasado a partir de las 0:00:00hrs del 1 de enero, 1970\"_"
   ]
  },
  {
   "cell_type": "markdown",
   "id": "fe557e33-616d-4b83-9f85-23703401b203",
   "metadata": {},
   "source": [
    "### Importar librería datetime"
   ]
  },
  {
   "cell_type": "code",
   "execution_count": null,
   "id": "bbce5de5-f981-408b-81b5-61aa5513f242",
   "metadata": {},
   "outputs": [],
   "source": []
  },
  {
   "cell_type": "markdown",
   "id": "638f9742-51bd-4d18-9daa-4b2e66b1e08a",
   "metadata": {},
   "source": [
    "### Comparar los timestamps de los links"
   ]
  },
  {
   "cell_type": "code",
   "execution_count": null,
   "id": "b9481241-1dec-4a54-bbfe-e08c637abd43",
   "metadata": {},
   "outputs": [],
   "source": []
  },
  {
   "cell_type": "markdown",
   "id": "f06d1cdc-0f9d-4df1-938b-1ac21645c2a3",
   "metadata": {},
   "source": [
    "### Epoch 0"
   ]
  },
  {
   "cell_type": "code",
   "execution_count": null,
   "id": "2cad1f8f-48b0-4905-86df-c85f314a7f1e",
   "metadata": {},
   "outputs": [],
   "source": []
  },
  {
   "cell_type": "markdown",
   "id": "ab912824-4ade-4702-88ba-7a49c146d900",
   "metadata": {},
   "source": [
    "### Tiempo Universal Coordinado / Coordinated Universal Time (UTC): Stándard de tiempo en el mundo\n"
   ]
  },
  {
   "cell_type": "markdown",
   "id": "fbfca600-d838-4edd-a0ea-71ab35adb05f",
   "metadata": {},
   "source": [
    "UTC es un estándar de tiempo utilizado para sincronizar/coordinar los centros de tiempo alrededor del mundo.  Se utiliza el promedio de dos componentes:\n",
    "1. Hora Atómica Internacional (**TAI**):  Es una escala de tiempo que combina los resultados de 400 relojes atómicos de gran precisión alrededor del mundo\n",
    "1. Hora Universal (**UT1**):  También conocido como tiempo astronómico o solar referente a la rotación de la tierra.  Compara el paso marcado por **TAI** y la duración actual de un día en la tierra."
   ]
  },
  {
   "cell_type": "markdown",
   "id": "d14f1279-3c74-44b7-b1ae-8fef313374bc",
   "metadata": {},
   "source": [
    "### UTC es un estándard no una zona horaria\n",
    "GMT es la Zona Horaria de Greenwich.  "
   ]
  },
  {
   "cell_type": "markdown",
   "id": "eaa76ac9-b29e-4d0f-8613-2e5ed6e7c5f9",
   "metadata": {},
   "source": []
  },
  {
   "cell_type": "markdown",
   "id": "e77c9539-7eea-4d5a-a5d5-a8a5673ff263",
   "metadata": {},
   "source": [
    "## <font color='#2B17B0'>Crear función para obtener precios de acciones</font>\n"
   ]
  },
  {
   "cell_type": "code",
   "execution_count": null,
   "id": "de1f511f-a9a9-45e9-87d5-aeb1ecbc3bb1",
   "metadata": {},
   "outputs": [],
   "source": []
  },
  {
   "cell_type": "markdown",
   "id": "c7080029-0c22-4aaf-80ac-da5f755c3bd3",
   "metadata": {},
   "source": [
    "### Utilizar f String"
   ]
  },
  {
   "cell_type": "code",
   "execution_count": null,
   "id": "9269eb23-44e3-469f-b5d9-629f60727174",
   "metadata": {},
   "outputs": [],
   "source": []
  },
  {
   "cell_type": "markdown",
   "id": "09ef6f38-e58c-40b1-91fe-6e82d21b0dc9",
   "metadata": {},
   "source": [
    "### Fechas a Epoch Timestamp"
   ]
  },
  {
   "cell_type": "code",
   "execution_count": null,
   "id": "179acfeb-fecb-42f6-bd58-09f745509cab",
   "metadata": {},
   "outputs": [],
   "source": []
  },
  {
   "cell_type": "markdown",
   "id": "39fceec8-a7c1-4e0f-8fc7-437e2e91001d",
   "metadata": {},
   "source": [
    "### Definir variable `accion`"
   ]
  },
  {
   "cell_type": "code",
   "execution_count": null,
   "id": "4b4acee1-e1ab-4719-9bf4-eef7d86f4ed3",
   "metadata": {},
   "outputs": [],
   "source": []
  },
  {
   "cell_type": "markdown",
   "id": "ab4e3f96-8327-4e83-a914-03d4a7653c48",
   "metadata": {},
   "source": [
    "### Indexar columna `Date`"
   ]
  },
  {
   "cell_type": "code",
   "execution_count": null,
   "id": "361c2aa2-d675-4ea8-a1b2-7f0b50efe8a9",
   "metadata": {},
   "outputs": [],
   "source": []
  },
  {
   "cell_type": "markdown",
   "id": "de39eb00-4a3c-4697-bdfc-ceb0dc38ee1c",
   "metadata": {},
   "source": [
    "## Función `precios`"
   ]
  },
  {
   "cell_type": "markdown",
   "id": "d6f30d88-1fb8-42da-8b71-0eaae5a73a19",
   "metadata": {},
   "source": [
    "### Arreglar datos obtenidos de Yahoo Finance:"
   ]
  },
  {
   "cell_type": "markdown",
   "id": "6b8c21cd-c2fb-4bbd-bbcf-d081c988c9b9",
   "metadata": {},
   "source": [
    "1. Transformar columna `Date` de `Object` a `DateTime`\n",
    "1. Indexar columna `Date`\n",
    "1. \"Sortear\" fechas de manera ascendente\n",
    "1. Quizá cambiar títulos a los `labels`"
   ]
  },
  {
   "cell_type": "code",
   "execution_count": null,
   "id": "08b2e6f1-3d5f-4cbb-a682-0c2bd1f2f623",
   "metadata": {},
   "outputs": [],
   "source": []
  },
  {
   "cell_type": "markdown",
   "id": "2782be2e-01ce-4b18-9de3-5e249350a6c2",
   "metadata": {},
   "source": [
    "## Guardar función en nuestra librería y recargarlas en automático:"
   ]
  },
  {
   "cell_type": "code",
   "execution_count": 73,
   "id": "c3d85f48-9bec-4fda-8e6d-42f33f9ba6bf",
   "metadata": {
    "tags": []
   },
   "outputs": [],
   "source": [
    "%load_ext autoreload\n",
    "%autoreload 2"
   ]
  },
  {
   "cell_type": "code",
   "execution_count": null,
   "id": "940daa05-e6ae-4346-b969-fdc8f246d824",
   "metadata": {},
   "outputs": [],
   "source": [
    "from herramientas import herramientas_financieras as hf"
   ]
  },
  {
   "cell_type": "markdown",
   "id": "faa843d2-e586-41a0-8435-3de6d8e67df4",
   "metadata": {},
   "source": [
    "## Crear función para calcular retornos logarítmicos"
   ]
  },
  {
   "cell_type": "code",
   "execution_count": null,
   "id": "6be08ade-a4f9-4295-9be6-21f304c2621d",
   "metadata": {},
   "outputs": [],
   "source": []
  },
  {
   "cell_type": "markdown",
   "id": "f70ac5e1-7e5e-404d-afd5-e2c3ea18e15c",
   "metadata": {},
   "source": [
    "## Comparar 2 o más acciones"
   ]
  },
  {
   "cell_type": "markdown",
   "id": "d14a86e3-f354-4d64-838c-a002e6c0a201",
   "metadata": {},
   "source": [
    "### Crear DataFrame con 2 o más precios de cierre de diferentes acciones"
   ]
  },
  {
   "cell_type": "markdown",
   "id": "0a9e6d17-a041-4f4c-8da3-103eccba370d",
   "metadata": {},
   "source": [
    "Pasos a seguir\n",
    "1. Crear una lista con las acciones de interés\n",
    "1. Crea un df vacío\n",
    "1. Generar un for loop para cada elemento de la lista\n",
    "    1. Llamar a la función precios\n",
    "    1. Asignar al dataframe vacío la columna de precio ajustado, con el nombre de la acción\n",
    "    1. Borrar el dataframe donde se bajó los precios de la acción en turno"
   ]
  },
  {
   "cell_type": "code",
   "execution_count": null,
   "id": "c698feca-c119-4e16-9d71-98a804b907db",
   "metadata": {},
   "outputs": [],
   "source": []
  },
  {
   "cell_type": "markdown",
   "id": "0401682b-19bd-4243-8b12-110f30a55078",
   "metadata": {},
   "source": [
    "### Visualizar dataframe"
   ]
  },
  {
   "cell_type": "code",
   "execution_count": null,
   "id": "d58c208d-65c3-4ddc-acd8-b54ad8feb175",
   "metadata": {},
   "outputs": [],
   "source": []
  },
  {
   "cell_type": "markdown",
   "id": "ad08da40-2675-49d7-bc83-8965a3134cd6",
   "metadata": {},
   "source": [
    "### Normalizado de series de tiempo: Comparar 2 o más acciones"
   ]
  },
  {
   "cell_type": "code",
   "execution_count": null,
   "id": "87ee4b09-de84-41f4-9541-97551b152884",
   "metadata": {},
   "outputs": [],
   "source": []
  },
  {
   "cell_type": "markdown",
   "id": "2f7997f9-a0b0-4391-959c-db96b42e83f4",
   "metadata": {},
   "source": [
    "# <font color='#2B17B0'>Análisis técnico y análisis fundamental</font>\n"
   ]
  },
  {
   "cell_type": "markdown",
   "id": "5d9c6359-9ec3-446c-806d-f7d4374330df",
   "metadata": {},
   "source": [
    "## Diferencia entre los dos tipos de análisis"
   ]
  },
  {
   "cell_type": "markdown",
   "id": "0b641c93-463f-4c0a-944a-b84716ce4379",
   "metadata": {},
   "source": [
    "## Análisis técnico"
   ]
  },
  {
   "cell_type": "markdown",
   "id": "4d9f9225-7102-4b81-8486-8335d43df8f7",
   "metadata": {},
   "source": [
    "### Tipos de gráficas\n",
    "Ir a trading view"
   ]
  },
  {
   "cell_type": "markdown",
   "id": "6e2931b0-a981-4fc0-9244-7ff5f625cce1",
   "metadata": {
    "tags": []
   },
   "source": [
    "## Algoritmo Promedios Móviles"
   ]
  },
  {
   "cell_type": "markdown",
   "id": "f50278d7-f3e5-435b-9219-a4f34f5d9667",
   "metadata": {
    "tags": []
   },
   "source": [
    "Un promedio móvil es una técnica que calcula el promedio de un conjunto de datos a lo largo de un período específico, que se actualiza constantemente a medida que pasa el tiempo. Por ejemplo, en el caso de los precios de cierre de una acción, un promedio móvil de 20 días calcula el promedio de los precios de cierre de los últimos 20 días. Con cada día que pasa, se elimina el dato correspondiente al día más antiguo de los 20 y se incorpora el precio del día más reciente. De esta forma, el promedio móvil siempre refleja el precio promedio de las últimos 20 días.<br><br>\n",
    "\n",
    "Los PM se basan en la idea que los precios:\n",
    "* Reflejan unicamente el *sentir* del mercado en ese dia.\n",
    "* No reflejan el verdadero precio del activo.\n",
    "* Todos los días se corrigen los precios para llegar al precio real.\n",
    "* Al promediar los precios de cierre de los últimos \"n\" dias, se llega a un precio más real. \n",
    "<br><br>\n",
    "Comentarios:\n",
    "* Uno de los indicadores técnicos más utilizados.\n",
    "* Muchos sistemas basados en estrategias de \"trend-following\", lo utilizan como base de sus algorítmos.\n",
    "* Muy fácil de cuantificar y probar. \n",
    "* Las reglas de los promedios móviles son fácil de programar y generar señales de compra venta.\n",
    "<br><br>\n",
    "El PM se calcula de la siguiente manera:\n",
    "* Generamos dos promedios móviles vectorizados, donde generalmente el 1er promedio móvil (PM1) es de corto plazo (3 a 30 dias) y el 2do promédio móvil (PM2) es de mediano plazo (2, 3 hasta 12 meses).\n",
    "<br><br>\n",
    "\n",
    "Nuestra estrategia consiste en tomar posiciones \"long\" (comprar) o \"short\" (vender) al cruce de los PMs:\n",
    "* Long: PM1 > PM2\n",
    "* Short: PM1 < PM2 \n",
    "<br><br>\n",
    "Para calcular los PMs, utilizaremos el \"método\" .rolling(window).mean( ).\n",
    "con los siguientes datos:"
   ]
  },
  {
   "cell_type": "code",
   "execution_count": null,
   "id": "3695fb52-5cff-4a20-9c2d-8e2c6f997e5a",
   "metadata": {},
   "outputs": [],
   "source": []
  },
  {
   "cell_type": "markdown",
   "id": "44632015-06ba-44a9-bfd7-a46dd1fe00fb",
   "metadata": {},
   "source": [
    "### Cálculo de los promedios móviles"
   ]
  },
  {
   "cell_type": "markdown",
   "id": "992daec8-d996-4799-89f0-d304f6aca125",
   "metadata": {},
   "source": [
    "Referencia sobre la función `rolling` de pandas:\n",
    "https://pandas.pydata.org/docs/reference/api/pandas.DataFrame.rolling.html"
   ]
  },
  {
   "cell_type": "code",
   "execution_count": null,
   "id": "79edd545-2c7e-4662-8245-eee99f0d9f96",
   "metadata": {},
   "outputs": [],
   "source": []
  },
  {
   "cell_type": "markdown",
   "id": "ad001071-81ca-46d7-a52a-cb4abd3495cb",
   "metadata": {},
   "source": [
    "### Visualización"
   ]
  },
  {
   "cell_type": "code",
   "execution_count": null,
   "id": "e67bc6fc-9b51-4db7-b14f-ad2f5cd9b75b",
   "metadata": {},
   "outputs": [],
   "source": []
  },
  {
   "cell_type": "markdown",
   "id": "c04ed646-51fe-45a0-aa2f-aec4f9a329df",
   "metadata": {},
   "source": [
    "### Calcular posicion en el mercado"
   ]
  },
  {
   "cell_type": "markdown",
   "id": "a32204d9-a143-43eb-93f4-4ee38a3c6fa7",
   "metadata": {},
   "source": [
    "Ventas en corto permitidas:\n",
    "La estrategia consiste en tomar posiciones \"long\" o \"short\" al cruce de los PMs:\n",
    "* Long: PM1 > PM2 $\\longrightarrow$ __1__\n",
    "* Short: PM1 < PM2 $\\longrightarrow$ __-1__\n",
    "\n",
    "Ventas en corto no permitidas:\n",
    "* Long: PM1 > PM2 $\\longrightarrow$ __1__\n",
    "* Out:   PM1 < PM2 $\\longrightarrow$ **0**\n",
    "\n",
    "El utilizar números nos permite:\n",
    "* Visualizar posición en el mercado de acuerdo a los crueces de lospromedios móviles\n",
    "* Calcular los retornos de de la estrategia"
   ]
  },
  {
   "cell_type": "markdown",
   "id": "38c6da1c-4454-4edd-b749-136fb5994234",
   "metadata": {
    "tags": []
   },
   "source": [
    "#### Cálculo de posición del mercado utilizando ventas en corto"
   ]
  },
  {
   "cell_type": "markdown",
   "id": "289f3780-36fa-41fa-bcb8-1c8c52287f45",
   "metadata": {},
   "source": [
    "Referencia sobre función `where` de numpy:\n",
    "https://numpy.org/doc/stable/reference/generated/numpy.where.html"
   ]
  },
  {
   "cell_type": "code",
   "execution_count": null,
   "id": "a4df737f-7229-49b7-b3b4-6f1acca7e4bc",
   "metadata": {},
   "outputs": [],
   "source": []
  },
  {
   "cell_type": "markdown",
   "id": "3764ad3c-47a7-4573-8ebe-1bff7caf901c",
   "metadata": {
    "tags": []
   },
   "source": [
    "#### Visualizar posiciones en el mercado"
   ]
  },
  {
   "cell_type": "code",
   "execution_count": null,
   "id": "2ab87a2e-f7d5-47b2-86c6-c7dd8ec6975c",
   "metadata": {},
   "outputs": [],
   "source": []
  },
  {
   "cell_type": "markdown",
   "id": "fc15c82f-9c85-40d4-862e-3a90d48ae215",
   "metadata": {},
   "source": [
    "### BackTesting: Estrategia de promedios móviles con ventas en corto"
   ]
  },
  {
   "cell_type": "code",
   "execution_count": null,
   "id": "15a63ced-16cb-436e-810f-3b2eb84c7120",
   "metadata": {},
   "outputs": [],
   "source": []
  },
  {
   "cell_type": "markdown",
   "id": "82260710-3a1b-4a0d-b7a2-af168e2094ed",
   "metadata": {},
   "source": [
    "### Retornos del mercado Vs Estrategia PMs"
   ]
  },
  {
   "cell_type": "code",
   "execution_count": null,
   "id": "e60ff3d6-61f0-41ed-9bc7-9efd2b2ff8b7",
   "metadata": {},
   "outputs": [],
   "source": []
  },
  {
   "cell_type": "markdown",
   "id": "3426bcc6-ba6b-4ada-a6f6-d7d29b89bccb",
   "metadata": {},
   "source": [
    "### Visualizar desempeño"
   ]
  },
  {
   "cell_type": "code",
   "execution_count": null,
   "id": "726813bb-39d5-49a6-89ad-0ae7566e4a33",
   "metadata": {},
   "outputs": [],
   "source": []
  },
  {
   "cell_type": "markdown",
   "id": "ec0f5fb7-174e-4c2f-a936-083b19509e8a",
   "metadata": {},
   "source": [
    "### Balance monetario"
   ]
  },
  {
   "cell_type": "code",
   "execution_count": null,
   "id": "8d33e508-418c-41bb-9c3e-16ec4a0043cf",
   "metadata": {},
   "outputs": [],
   "source": []
  },
  {
   "cell_type": "markdown",
   "id": "ea90342d-8172-47b5-a487-a45ccba553b2",
   "metadata": {},
   "source": [
    "### Balance: Máximos"
   ]
  },
  {
   "cell_type": "code",
   "execution_count": null,
   "id": "810f0ee5-bede-43c2-883f-d71fd6923212",
   "metadata": {},
   "outputs": [],
   "source": []
  },
  {
   "cell_type": "markdown",
   "id": "4e0624a7-dc47-43e6-816b-75b3f2e4a4a5",
   "metadata": {},
   "source": [
    "### Balance: Perdidas"
   ]
  },
  {
   "cell_type": "code",
   "execution_count": null,
   "id": "5c87e73c-31ed-4f64-8c92-85f7f0813049",
   "metadata": {},
   "outputs": [],
   "source": []
  },
  {
   "cell_type": "markdown",
   "id": "671f2ec6-aca1-4f83-96e7-0cc9198d564f",
   "metadata": {},
   "source": [
    "### Encontrar pérdida máxima"
   ]
  },
  {
   "cell_type": "markdown",
   "id": "83d8bdd4-2324-465d-bf30-48b6bbe23676",
   "metadata": {},
   "source": [
    "Pasos:\n",
    "1. Identificar la mayor pérdida del periodo\n",
    "1. Encontrar la fecha de la mayor pérdida\n",
    "1. Identificar el pico máximo acumulado en la fecha de la mayor perdida\n",
    "1. Identificar el balance en la fecha de la mayor pérdida\n",
    "1. Graficar"
   ]
  },
  {
   "cell_type": "markdown",
   "id": "dfddc338-28b2-4dd9-96ec-39eb13258b65",
   "metadata": {},
   "source": [
    "#### dentificar la mayor perdida"
   ]
  },
  {
   "cell_type": "code",
   "execution_count": null,
   "id": "25d24156-3f67-4ed8-81b0-8af20a5359f3",
   "metadata": {},
   "outputs": [],
   "source": []
  },
  {
   "cell_type": "markdown",
   "id": "edc5d1b3-8e9c-425d-a558-d0cab29ed123",
   "metadata": {},
   "source": [
    "#### Encontrar fecha"
   ]
  },
  {
   "cell_type": "code",
   "execution_count": null,
   "id": "72de73f1-030d-4e51-b49a-0a6c875af6d6",
   "metadata": {},
   "outputs": [],
   "source": []
  },
  {
   "cell_type": "markdown",
   "id": "0ad15013-5836-42ec-b140-467650dd8f5b",
   "metadata": {},
   "source": [
    "#### Identificar valor del pico máximo en la fecha de la mayor perdida"
   ]
  },
  {
   "cell_type": "code",
   "execution_count": null,
   "id": "a670cf91-f8cf-4f62-ae57-fff8378f6ef8",
   "metadata": {},
   "outputs": [],
   "source": []
  },
  {
   "cell_type": "markdown",
   "id": "f89e03bd-2e08-4276-9044-3415b5ff3431",
   "metadata": {},
   "source": [
    "#### Identificar balance en la fecha de la mayor pérdida"
   ]
  },
  {
   "cell_type": "code",
   "execution_count": null,
   "id": "f2219e6e-89a1-4d59-b7d6-07b4ef6e4f46",
   "metadata": {},
   "outputs": [],
   "source": []
  }
 ],
 "metadata": {
  "kernelspec": {
   "display_name": "Python 3 (ipykernel)",
   "language": "python",
   "name": "python3"
  },
  "language_info": {
   "codemirror_mode": {
    "name": "ipython",
    "version": 3
   },
   "file_extension": ".py",
   "mimetype": "text/x-python",
   "name": "python",
   "nbconvert_exporter": "python",
   "pygments_lexer": "ipython3",
   "version": "3.11.3"
  }
 },
 "nbformat": 4,
 "nbformat_minor": 5
}
