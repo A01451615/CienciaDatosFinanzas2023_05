{
 "cells": [
  {
   "cell_type": "markdown",
   "id": "03e1573e-f5b4-4f24-91f4-67e2e688eb71",
   "metadata": {},
   "source": [
    "# <font color='#2B17B0'>CIENCIA DE DATOS APLICADA A FINANZAS</font>\n",
    "Sesión 8, 2022-06-05<br>\n",
    "Carlos Crespo Elizondo<br>\n",
    "EGADE BUSINESS SCHOOL"
   ]
  },
  {
   "cell_type": "code",
   "execution_count": 1,
   "id": "c27fbee6-5ac2-436d-abf7-52570ddea932",
   "metadata": {
    "tags": []
   },
   "outputs": [],
   "source": [
    "from herramientas import herramientas_financieras as hf\n",
    "import matplotlib.pyplot as plt\n",
    "import pandas as pd\n",
    "import numpy as np\n",
    "import datetime\n",
    "import seaborn as sns\n",
    "\n",
    "sns.set_style('darkgrid')"
   ]
  },
  {
   "cell_type": "code",
   "execution_count": 2,
   "id": "96559769-46dd-4fb5-a4f1-db3c911c7221",
   "metadata": {
    "tags": []
   },
   "outputs": [],
   "source": [
    "%load_ext autoreload\n",
    "%autoreload 2"
   ]
  },
  {
   "cell_type": "markdown",
   "id": "6e1c23ea-8dd5-433f-bf1e-dad140bae3a2",
   "metadata": {},
   "source": [
    "# <font color='red'>DETALLE EN LA SESION 7</font>\n"
   ]
  },
  {
   "cell_type": "markdown",
   "id": "249b3bb1-0987-43dd-9c1a-0107fbfb512a",
   "metadata": {
    "tags": []
   },
   "source": [
    "`cemex.set_index(cemex['Date'], inplace=True)`<br>\n",
    "En la sesión 7, asigné el index como en el renglón superior. Y teniamos dos veces la columna 'Date' en el DataFrame.<br><br>\n",
    "El asignar la serie,  hace que el index sean los valores de la columna 'Date', en lugar de usar la columna 'Date' como index."
   ]
  },
  {
   "cell_type": "code",
   "execution_count": null,
   "id": "83313810-152f-422e-83e4-6190128c4f9b",
   "metadata": {},
   "outputs": [],
   "source": []
  },
  {
   "cell_type": "markdown",
   "id": "2f7997f9-a0b0-4391-959c-db96b42e83f4",
   "metadata": {},
   "source": [
    "# <font color='#2B17B0'>Análisis técnico y análisis fundamental</font>\n"
   ]
  },
  {
   "cell_type": "markdown",
   "id": "5d9c6359-9ec3-446c-806d-f7d4374330df",
   "metadata": {},
   "source": [
    "## Diferencia entre los dos tipos de análisis"
   ]
  },
  {
   "cell_type": "markdown",
   "id": "0b641c93-463f-4c0a-944a-b84716ce4379",
   "metadata": {},
   "source": [
    "## Análisis técnico"
   ]
  },
  {
   "cell_type": "markdown",
   "id": "6e2931b0-a981-4fc0-9244-7ff5f625cce1",
   "metadata": {
    "tags": []
   },
   "source": [
    "## Algoritmo Promedios Móviles"
   ]
  },
  {
   "cell_type": "markdown",
   "id": "f50278d7-f3e5-435b-9219-a4f34f5d9667",
   "metadata": {
    "tags": []
   },
   "source": [
    "Un promedio móvil es una técnica que calcula el promedio de un conjunto de datos a lo largo de un período específico, que se actualiza constantemente a medida que pasa el tiempo. Por ejemplo, en el caso de los precios de cierre de una acción, un promedio móvil de 20 días calcula el promedio de los precios de cierre de los últimos 20 días. Con cada día que pasa, se elimina el dato correspondiente al día más antiguo de los 20 y se incorpora el precio del día más reciente. De esta forma, el promedio móvil siempre refleja el precio promedio de las últimos 20 días.<br><br>\n",
    "\n",
    "Los PM se basan en la idea que los precios:\n",
    "* Reflejan unicamente el *sentir* del mercado en ese dia.\n",
    "* No reflejan el verdadero precio del activo.\n",
    "* Todos los días se corrigen los precios para llegar al precio real.\n",
    "* Al promediar los precios de cierre de los últimos \"n\" dias, se llega a un precio más real. \n",
    "<br><br>\n",
    "Comentarios:\n",
    "* Uno de los indicadores técnicos más utilizados.\n",
    "* Muchos sistemas basados en estrategias de \"trend-following\", lo utilizan como base de sus algorítmos.\n",
    "* Muy fácil de cuantificar y probar. \n",
    "* Las reglas de los promedios móviles son fácil de programar y generar señales de compra venta.\n",
    "<br><br>\n",
    "El PM se calcula de la siguiente manera:\n",
    "* Generamos dos promedios móviles vectorizados, donde generalmente el 1er promedio móvil (PM1) es de corto plazo (3 a 30 dias) y el 2do promédio móvil (PM2) es de mediano plazo (2, 3 hasta 12 meses).\n",
    "<br><br>\n",
    "\n",
    "Nuestra estrategia consiste en tomar posiciones \"long\" (comprar) o \"short\" (vender) al cruce de los PMs:\n",
    "* Long: PM1 > PM2\n",
    "* Short: PM1 < PM2 \n",
    "<br><br>\n",
    "Para calcular los PMs, utilizaremos el \"método\" .rolling(window).mean( ).\n",
    "con los siguientes datos:"
   ]
  },
  {
   "cell_type": "code",
   "execution_count": 3,
   "id": "3695fb52-5cff-4a20-9c2d-8e2c6f997e5a",
   "metadata": {
    "tags": []
   },
   "outputs": [],
   "source": [
    "accion = 'cemexcpo.mx'\n",
    "pm1 = 13\n",
    "pm2 = 55\n",
    "\n",
    "df = hf.precios(accion, '2020-01-01', '2023-05-29')"
   ]
  },
  {
   "cell_type": "code",
   "execution_count": 4,
   "id": "2c3fe2bd-b45d-4b21-8ddf-85b8dbb0fd02",
   "metadata": {
    "tags": []
   },
   "outputs": [
    {
     "name": "stdout",
     "output_type": "stream",
     "text": [
      "<class 'pandas.core.frame.DataFrame'>\n",
      "DatetimeIndex: 857 entries, 2020-01-02 to 2023-05-26\n",
      "Data columns (total 6 columns):\n",
      " #   Column           Non-Null Count  Dtype  \n",
      "---  ------           --------------  -----  \n",
      " 0   apertura         856 non-null    float64\n",
      " 1   maximo           856 non-null    float64\n",
      " 2   minimo           856 non-null    float64\n",
      " 3   cierre           856 non-null    float64\n",
      " 4   cierre_ajustado  856 non-null    float64\n",
      " 5   volumen          856 non-null    float64\n",
      "dtypes: float64(6)\n",
      "memory usage: 46.9 KB\n"
     ]
    }
   ],
   "source": [
    "df.info()"
   ]
  },
  {
   "cell_type": "code",
   "execution_count": null,
   "id": "de76304e-e4e7-431a-b5c5-a07c1a5fee0a",
   "metadata": {},
   "outputs": [],
   "source": []
  },
  {
   "cell_type": "markdown",
   "id": "5beb0ec1-846b-4d82-ac43-584354e76577",
   "metadata": {},
   "source": [
    "### <font color='red'>Mejorar lo aportado en la sesión 7 sobre datos faltantes del 10 de marzo, 2023</font>\n"
   ]
  },
  {
   "cell_type": "code",
   "execution_count": 5,
   "id": "1437e5f9-111a-4901-966d-6003cf20ab83",
   "metadata": {
    "tags": []
   },
   "outputs": [
    {
     "data": {
      "text/plain": [
       "apertura          NaN\n",
       "maximo            NaN\n",
       "minimo            NaN\n",
       "cierre            NaN\n",
       "cierre_ajustado   NaN\n",
       "volumen           NaN\n",
       "Name: 2023-03-10 00:00:00, dtype: float64"
      ]
     },
     "execution_count": 5,
     "metadata": {},
     "output_type": "execute_result"
    }
   ],
   "source": [
    "df.loc['2023-03-10']"
   ]
  },
  {
   "cell_type": "markdown",
   "id": "e1c7d11c-e75e-4361-9799-3fdee06d5317",
   "metadata": {},
   "source": [
    "#### <font color='red'>Interpolar el día previo y posrterior al 10 de marzo</font>\n"
   ]
  },
  {
   "cell_type": "code",
   "execution_count": null,
   "id": "0f71f6ae-693b-4963-910d-849ee496c03d",
   "metadata": {},
   "outputs": [],
   "source": []
  },
  {
   "cell_type": "markdown",
   "id": "b149c9db-8060-4c28-a7cc-495a3ada1b18",
   "metadata": {},
   "source": [
    "#### <font color='red'>ACTUALIZAR LA FUNCION precios </font>\n"
   ]
  },
  {
   "cell_type": "markdown",
   "id": "44632015-06ba-44a9-bfd7-a46dd1fe00fb",
   "metadata": {},
   "source": [
    "### Cálculo de los promedios móviles"
   ]
  },
  {
   "cell_type": "markdown",
   "id": "992daec8-d996-4799-89f0-d304f6aca125",
   "metadata": {},
   "source": [
    "Referencia sobre la función `rolling` de pandas:\n",
    "https://pandas.pydata.org/docs/reference/api/pandas.DataFrame.rolling.html"
   ]
  },
  {
   "cell_type": "code",
   "execution_count": 9,
   "id": "79edd545-2c7e-4662-8245-eee99f0d9f96",
   "metadata": {
    "tags": []
   },
   "outputs": [],
   "source": [
    "df['pm1'] = df['cierre_ajustado'].rolling(pm1).mean()\n",
    "df['pm2'] = df['cierre_ajustado'].rolling(pm2).mean()\n",
    "df.dropna(inplace=True)"
   ]
  },
  {
   "cell_type": "markdown",
   "id": "ad001071-81ca-46d7-a52a-cb4abd3495cb",
   "metadata": {},
   "source": [
    "### Visualización"
   ]
  },
  {
   "cell_type": "code",
   "execution_count": 10,
   "id": "e67bc6fc-9b51-4db7-b14f-ad2f5cd9b75b",
   "metadata": {
    "tags": []
   },
   "outputs": [],
   "source": [
    "df.drop(['apertura', 'maximo', 'minimo', 'cierre', 'volumen'], axis=1, inplace=True)"
   ]
  },
  {
   "cell_type": "code",
   "execution_count": 11,
   "id": "2aba2f03-c449-4655-a098-164015ddb4b6",
   "metadata": {
    "tags": []
   },
   "outputs": [
    {
     "data": {
      "text/html": [
       "<div>\n",
       "<style scoped>\n",
       "    .dataframe tbody tr th:only-of-type {\n",
       "        vertical-align: middle;\n",
       "    }\n",
       "\n",
       "    .dataframe tbody tr th {\n",
       "        vertical-align: top;\n",
       "    }\n",
       "\n",
       "    .dataframe thead th {\n",
       "        text-align: right;\n",
       "    }\n",
       "</style>\n",
       "<table border=\"1\" class=\"dataframe\">\n",
       "  <thead>\n",
       "    <tr style=\"text-align: right;\">\n",
       "      <th></th>\n",
       "      <th>cierre_ajustado</th>\n",
       "      <th>pm1</th>\n",
       "      <th>pm2</th>\n",
       "    </tr>\n",
       "    <tr>\n",
       "      <th>fecha</th>\n",
       "      <th></th>\n",
       "      <th></th>\n",
       "      <th></th>\n",
       "    </tr>\n",
       "  </thead>\n",
       "  <tbody>\n",
       "    <tr>\n",
       "      <th>2020-03-20</th>\n",
       "      <td>4.32</td>\n",
       "      <td>5.497692</td>\n",
       "      <td>6.905455</td>\n",
       "    </tr>\n",
       "    <tr>\n",
       "      <th>2020-03-23</th>\n",
       "      <td>4.24</td>\n",
       "      <td>5.316923</td>\n",
       "      <td>6.852364</td>\n",
       "    </tr>\n",
       "    <tr>\n",
       "      <th>2020-03-24</th>\n",
       "      <td>4.47</td>\n",
       "      <td>5.143077</td>\n",
       "      <td>6.802909</td>\n",
       "    </tr>\n",
       "    <tr>\n",
       "      <th>2020-03-25</th>\n",
       "      <td>4.29</td>\n",
       "      <td>4.991538</td>\n",
       "      <td>6.750000</td>\n",
       "    </tr>\n",
       "    <tr>\n",
       "      <th>2020-03-26</th>\n",
       "      <td>4.61</td>\n",
       "      <td>4.893846</td>\n",
       "      <td>6.705273</td>\n",
       "    </tr>\n",
       "  </tbody>\n",
       "</table>\n",
       "</div>"
      ],
      "text/plain": [
       "            cierre_ajustado       pm1       pm2\n",
       "fecha                                          \n",
       "2020-03-20             4.32  5.497692  6.905455\n",
       "2020-03-23             4.24  5.316923  6.852364\n",
       "2020-03-24             4.47  5.143077  6.802909\n",
       "2020-03-25             4.29  4.991538  6.750000\n",
       "2020-03-26             4.61  4.893846  6.705273"
      ]
     },
     "execution_count": 11,
     "metadata": {},
     "output_type": "execute_result"
    }
   ],
   "source": [
    "df.head()"
   ]
  },
  {
   "cell_type": "code",
   "execution_count": 12,
   "id": "e75bd8a0-2af5-407f-8f31-6c26c443449d",
   "metadata": {
    "tags": []
   },
   "outputs": [
    {
     "data": {
      "image/png": "[encoded data removed]",
      "text/plain": [
       "<Figure size 640x480 with 1 Axes>"
      ]
     },
     "metadata": {},
     "output_type": "display_data"
    }
   ],
   "source": [
    "df.plot();"
   ]
  },
  {
   "cell_type": "markdown",
   "id": "c6451fed-4fb2-4a91-ad79-243921b0847b",
   "metadata": {},
   "source": [
    "### <font color='red'>Hacer gráfica de verdad</font>\n"
   ]
  },
  {
   "cell_type": "code",
   "execution_count": null,
   "id": "ab86aecc-8689-4e21-a539-cc76b82dc3b4",
   "metadata": {},
   "outputs": [],
   "source": []
  },
  {
   "cell_type": "markdown",
   "id": "c04ed646-51fe-45a0-aa2f-aec4f9a329df",
   "metadata": {},
   "source": [
    "### Calcular posicion en el mercado"
   ]
  },
  {
   "cell_type": "markdown",
   "id": "a32204d9-a143-43eb-93f4-4ee38a3c6fa7",
   "metadata": {},
   "source": [
    "Ventas en corto permitidas:\n",
    "La estrategia consiste en tomar posiciones \"long\" o \"short\" al cruce de los PMs:\n",
    "* Long: PM1 > PM2 $\\longrightarrow$ __1__\n",
    "* Short: PM1 < PM2 $\\longrightarrow$ __-1__\n",
    "\n",
    "Ventas en corto no permitidas:\n",
    "* Long: PM1 > PM2 $\\longrightarrow$ __1__\n",
    "* Out:   PM1 < PM2 $\\longrightarrow$ **0**\n",
    "\n",
    "El utilizar números nos permite:\n",
    "* Visualizar posición en el mercado de acuerdo a los crueces de lospromedios móviles\n",
    "* Calcular los retornos de de la estrategia"
   ]
  },
  {
   "cell_type": "markdown",
   "id": "38c6da1c-4454-4edd-b749-136fb5994234",
   "metadata": {
    "tags": []
   },
   "source": [
    "#### Cálculo de posición del mercado utilizando ventas en corto"
   ]
  },
  {
   "cell_type": "markdown",
   "id": "289f3780-36fa-41fa-bcb8-1c8c52287f45",
   "metadata": {},
   "source": [
    "Referencia sobre función `where` de numpy:\n",
    "https://numpy.org/doc/stable/reference/generated/numpy.where.html"
   ]
  },
  {
   "cell_type": "code",
   "execution_count": 14,
   "id": "a4df737f-7229-49b7-b3b4-6f1acca7e4bc",
   "metadata": {
    "tags": []
   },
   "outputs": [],
   "source": [
    "long = 1\n",
    "short = -1\n",
    "\n",
    "df['posicion'] = np.where(df['pm1']>df['pm2'], long, short)"
   ]
  },
  {
   "cell_type": "markdown",
   "id": "3764ad3c-47a7-4573-8ebe-1bff7caf901c",
   "metadata": {
    "tags": []
   },
   "source": [
    "#### Visualizar posiciones en el mercado"
   ]
  },
  {
   "cell_type": "code",
   "execution_count": 15,
   "id": "2ab87a2e-f7d5-47b2-86c6-c7dd8ec6975c",
   "metadata": {
    "tags": []
   },
   "outputs": [
    {
     "data": {
      "text/html": [
       "<div>\n",
       "<style scoped>\n",
       "    .dataframe tbody tr th:only-of-type {\n",
       "        vertical-align: middle;\n",
       "    }\n",
       "\n",
       "    .dataframe tbody tr th {\n",
       "        vertical-align: top;\n",
       "    }\n",
       "\n",
       "    .dataframe thead th {\n",
       "        text-align: right;\n",
       "    }\n",
       "</style>\n",
       "<table border=\"1\" class=\"dataframe\">\n",
       "  <thead>\n",
       "    <tr style=\"text-align: right;\">\n",
       "      <th></th>\n",
       "      <th>cierre_ajustado</th>\n",
       "      <th>pm1</th>\n",
       "      <th>pm2</th>\n",
       "      <th>posicion</th>\n",
       "    </tr>\n",
       "    <tr>\n",
       "      <th>fecha</th>\n",
       "      <th></th>\n",
       "      <th></th>\n",
       "      <th></th>\n",
       "      <th></th>\n",
       "    </tr>\n",
       "  </thead>\n",
       "  <tbody>\n",
       "    <tr>\n",
       "      <th>2020-03-20</th>\n",
       "      <td>4.32</td>\n",
       "      <td>5.497692</td>\n",
       "      <td>6.905455</td>\n",
       "      <td>-1</td>\n",
       "    </tr>\n",
       "    <tr>\n",
       "      <th>2020-03-23</th>\n",
       "      <td>4.24</td>\n",
       "      <td>5.316923</td>\n",
       "      <td>6.852364</td>\n",
       "      <td>-1</td>\n",
       "    </tr>\n",
       "    <tr>\n",
       "      <th>2020-03-24</th>\n",
       "      <td>4.47</td>\n",
       "      <td>5.143077</td>\n",
       "      <td>6.802909</td>\n",
       "      <td>-1</td>\n",
       "    </tr>\n",
       "    <tr>\n",
       "      <th>2020-03-25</th>\n",
       "      <td>4.29</td>\n",
       "      <td>4.991538</td>\n",
       "      <td>6.750000</td>\n",
       "      <td>-1</td>\n",
       "    </tr>\n",
       "    <tr>\n",
       "      <th>2020-03-26</th>\n",
       "      <td>4.61</td>\n",
       "      <td>4.893846</td>\n",
       "      <td>6.705273</td>\n",
       "      <td>-1</td>\n",
       "    </tr>\n",
       "    <tr>\n",
       "      <th>...</th>\n",
       "      <td>...</td>\n",
       "      <td>...</td>\n",
       "      <td>...</td>\n",
       "      <td>...</td>\n",
       "    </tr>\n",
       "    <tr>\n",
       "      <th>2023-05-22</th>\n",
       "      <td>11.33</td>\n",
       "      <td>11.589231</td>\n",
       "      <td>10.359091</td>\n",
       "      <td>1</td>\n",
       "    </tr>\n",
       "    <tr>\n",
       "      <th>2023-05-23</th>\n",
       "      <td>11.08</td>\n",
       "      <td>11.570000</td>\n",
       "      <td>10.389818</td>\n",
       "      <td>1</td>\n",
       "    </tr>\n",
       "    <tr>\n",
       "      <th>2023-05-24</th>\n",
       "      <td>11.00</td>\n",
       "      <td>11.516154</td>\n",
       "      <td>10.411818</td>\n",
       "      <td>1</td>\n",
       "    </tr>\n",
       "    <tr>\n",
       "      <th>2023-05-25</th>\n",
       "      <td>11.10</td>\n",
       "      <td>11.473077</td>\n",
       "      <td>10.428727</td>\n",
       "      <td>1</td>\n",
       "    </tr>\n",
       "    <tr>\n",
       "      <th>2023-05-26</th>\n",
       "      <td>11.09</td>\n",
       "      <td>11.406923</td>\n",
       "      <td>10.449273</td>\n",
       "      <td>1</td>\n",
       "    </tr>\n",
       "  </tbody>\n",
       "</table>\n",
       "<p>803 rows × 4 columns</p>\n",
       "</div>"
      ],
      "text/plain": [
       "            cierre_ajustado        pm1        pm2  posicion\n",
       "fecha                                                      \n",
       "2020-03-20             4.32   5.497692   6.905455        -1\n",
       "2020-03-23             4.24   5.316923   6.852364        -1\n",
       "2020-03-24             4.47   5.143077   6.802909        -1\n",
       "2020-03-25             4.29   4.991538   6.750000        -1\n",
       "2020-03-26             4.61   4.893846   6.705273        -1\n",
       "...                     ...        ...        ...       ...\n",
       "2023-05-22            11.33  11.589231  10.359091         1\n",
       "2023-05-23            11.08  11.570000  10.389818         1\n",
       "2023-05-24            11.00  11.516154  10.411818         1\n",
       "2023-05-25            11.10  11.473077  10.428727         1\n",
       "2023-05-26            11.09  11.406923  10.449273         1\n",
       "\n",
       "[803 rows x 4 columns]"
      ]
     },
     "execution_count": 15,
     "metadata": {},
     "output_type": "execute_result"
    }
   ],
   "source": [
    "df"
   ]
  },
  {
   "cell_type": "code",
   "execution_count": 16,
   "id": "03b757cc-ea54-457d-8f48-4cd68a4773b0",
   "metadata": {
    "tags": []
   },
   "outputs": [
    {
     "data": {
      "image/png": "[encoded data removed]",
      "text/plain": [
       "<Figure size 640x480 with 1 Axes>"
      ]
     },
     "metadata": {},
     "output_type": "display_data"
    }
   ],
   "source": [
    "df[['cierre_ajustado', 'pm1', 'pm2']].plot()\n",
    "df['posicion'].plot();"
   ]
  },
  {
   "cell_type": "markdown",
   "id": "2653fd7c-722b-413a-80d3-11058a3f5ce6",
   "metadata": {},
   "source": [
    "### <font color='red'>Hacer gráfica de verdad</font>\n"
   ]
  },
  {
   "cell_type": "code",
   "execution_count": null,
   "id": "064a8b3a-e907-4239-becf-d982eba0ff46",
   "metadata": {},
   "outputs": [],
   "source": []
  },
  {
   "cell_type": "code",
   "execution_count": 22,
   "id": "b6bd5c18-a52d-4ab2-9441-4cdbe359b7d3",
   "metadata": {
    "tags": []
   },
   "outputs": [],
   "source": [
    "df['ret_ln'] = hf.ret_ln(df['cierre_ajustado'])"
   ]
  },
  {
   "cell_type": "code",
   "execution_count": 24,
   "id": "c2188870-7564-44e7-a1a9-caee8d207f64",
   "metadata": {
    "tags": []
   },
   "outputs": [
    {
     "data": {
      "text/html": [
       "<div>\n",
       "<style scoped>\n",
       "    .dataframe tbody tr th:only-of-type {\n",
       "        vertical-align: middle;\n",
       "    }\n",
       "\n",
       "    .dataframe tbody tr th {\n",
       "        vertical-align: top;\n",
       "    }\n",
       "\n",
       "    .dataframe thead th {\n",
       "        text-align: right;\n",
       "    }\n",
       "</style>\n",
       "<table border=\"1\" class=\"dataframe\">\n",
       "  <thead>\n",
       "    <tr style=\"text-align: right;\">\n",
       "      <th></th>\n",
       "      <th>cierre_ajustado</th>\n",
       "      <th>pm1</th>\n",
       "      <th>pm2</th>\n",
       "      <th>posicion</th>\n",
       "      <th>ret_ln</th>\n",
       "    </tr>\n",
       "    <tr>\n",
       "      <th>fecha</th>\n",
       "      <th></th>\n",
       "      <th></th>\n",
       "      <th></th>\n",
       "      <th></th>\n",
       "      <th></th>\n",
       "    </tr>\n",
       "  </thead>\n",
       "  <tbody>\n",
       "    <tr>\n",
       "      <th>2020-03-23</th>\n",
       "      <td>4.24</td>\n",
       "      <td>5.316923</td>\n",
       "      <td>6.852364</td>\n",
       "      <td>-1</td>\n",
       "      <td>-0.018692</td>\n",
       "    </tr>\n",
       "    <tr>\n",
       "      <th>2020-03-24</th>\n",
       "      <td>4.47</td>\n",
       "      <td>5.143077</td>\n",
       "      <td>6.802909</td>\n",
       "      <td>-1</td>\n",
       "      <td>0.052825</td>\n",
       "    </tr>\n",
       "    <tr>\n",
       "      <th>2020-03-25</th>\n",
       "      <td>4.29</td>\n",
       "      <td>4.991538</td>\n",
       "      <td>6.750000</td>\n",
       "      <td>-1</td>\n",
       "      <td>-0.041102</td>\n",
       "    </tr>\n",
       "    <tr>\n",
       "      <th>2020-03-26</th>\n",
       "      <td>4.61</td>\n",
       "      <td>4.893846</td>\n",
       "      <td>6.705273</td>\n",
       "      <td>-1</td>\n",
       "      <td>0.071941</td>\n",
       "    </tr>\n",
       "    <tr>\n",
       "      <th>2020-03-27</th>\n",
       "      <td>4.29</td>\n",
       "      <td>4.809231</td>\n",
       "      <td>6.652364</td>\n",
       "      <td>-1</td>\n",
       "      <td>-0.071941</td>\n",
       "    </tr>\n",
       "    <tr>\n",
       "      <th>...</th>\n",
       "      <td>...</td>\n",
       "      <td>...</td>\n",
       "      <td>...</td>\n",
       "      <td>...</td>\n",
       "      <td>...</td>\n",
       "    </tr>\n",
       "    <tr>\n",
       "      <th>2023-05-22</th>\n",
       "      <td>11.33</td>\n",
       "      <td>11.589231</td>\n",
       "      <td>10.359091</td>\n",
       "      <td>1</td>\n",
       "      <td>-0.014893</td>\n",
       "    </tr>\n",
       "    <tr>\n",
       "      <th>2023-05-23</th>\n",
       "      <td>11.08</td>\n",
       "      <td>11.570000</td>\n",
       "      <td>10.389818</td>\n",
       "      <td>1</td>\n",
       "      <td>-0.022312</td>\n",
       "    </tr>\n",
       "    <tr>\n",
       "      <th>2023-05-24</th>\n",
       "      <td>11.00</td>\n",
       "      <td>11.516154</td>\n",
       "      <td>10.411818</td>\n",
       "      <td>1</td>\n",
       "      <td>-0.007246</td>\n",
       "    </tr>\n",
       "    <tr>\n",
       "      <th>2023-05-25</th>\n",
       "      <td>11.10</td>\n",
       "      <td>11.473077</td>\n",
       "      <td>10.428727</td>\n",
       "      <td>1</td>\n",
       "      <td>0.009050</td>\n",
       "    </tr>\n",
       "    <tr>\n",
       "      <th>2023-05-26</th>\n",
       "      <td>11.09</td>\n",
       "      <td>11.406923</td>\n",
       "      <td>10.449273</td>\n",
       "      <td>1</td>\n",
       "      <td>-0.000901</td>\n",
       "    </tr>\n",
       "  </tbody>\n",
       "</table>\n",
       "<p>802 rows × 5 columns</p>\n",
       "</div>"
      ],
      "text/plain": [
       "            cierre_ajustado        pm1        pm2  posicion    ret_ln\n",
       "fecha                                                                \n",
       "2020-03-23             4.24   5.316923   6.852364        -1 -0.018692\n",
       "2020-03-24             4.47   5.143077   6.802909        -1  0.052825\n",
       "2020-03-25             4.29   4.991538   6.750000        -1 -0.041102\n",
       "2020-03-26             4.61   4.893846   6.705273        -1  0.071941\n",
       "2020-03-27             4.29   4.809231   6.652364        -1 -0.071941\n",
       "...                     ...        ...        ...       ...       ...\n",
       "2023-05-22            11.33  11.589231  10.359091         1 -0.014893\n",
       "2023-05-23            11.08  11.570000  10.389818         1 -0.022312\n",
       "2023-05-24            11.00  11.516154  10.411818         1 -0.007246\n",
       "2023-05-25            11.10  11.473077  10.428727         1  0.009050\n",
       "2023-05-26            11.09  11.406923  10.449273         1 -0.000901\n",
       "\n",
       "[802 rows x 5 columns]"
      ]
     },
     "execution_count": 24,
     "metadata": {},
     "output_type": "execute_result"
    }
   ],
   "source": [
    "df.dropna(inplace=True)"
   ]
  },
  {
   "cell_type": "code",
   "execution_count": 26,
   "id": "15a63ced-16cb-436e-810f-3b2eb84c7120",
   "metadata": {
    "tags": []
   },
   "outputs": [],
   "source": [
    "df['ret_est'] = df['ret_ln'] * df['posicion'].shift(1)"
   ]
  },
  {
   "cell_type": "code",
   "execution_count": 28,
   "id": "fe017c5a-05f7-417e-bef7-8931017d4181",
   "metadata": {
    "tags": []
   },
   "outputs": [
    {
     "data": {
      "text/plain": [
       "ret_ln     0.942788\n",
       "ret_est    1.313588\n",
       "dtype: float64"
      ]
     },
     "execution_count": 28,
     "metadata": {},
     "output_type": "execute_result"
    }
   ],
   "source": [
    "df[['ret_ln', 'ret_est']].sum()"
   ]
  },
  {
   "cell_type": "code",
   "execution_count": 29,
   "id": "ab14bd43-9d31-4b62-bb9d-420ce89260bb",
   "metadata": {
    "tags": []
   },
   "outputs": [
    {
     "data": {
      "text/plain": [
       "ret_ln     2.567130\n",
       "ret_est    3.719495\n",
       "dtype: float64"
      ]
     },
     "execution_count": 29,
     "metadata": {},
     "output_type": "execute_result"
    }
   ],
   "source": [
    "np.exp(df[['ret_ln', 'ret_est']].sum())"
   ]
  },
  {
   "cell_type": "markdown",
   "id": "32db1cbb-9804-4305-a8f8-3eaffece58ae",
   "metadata": {},
   "source": [
    "### <font color='red'>CONTINUAR CON LA CLASE</font>\n"
   ]
  },
  {
   "cell_type": "markdown",
   "id": "82260710-3a1b-4a0d-b7a2-af168e2094ed",
   "metadata": {},
   "source": [
    "### Retornos del mercado Vs Estrategia PMs"
   ]
  },
  {
   "cell_type": "code",
   "execution_count": null,
   "id": "d9fbd8be-618f-4600-bd12-7cb32e8966d4",
   "metadata": {},
   "outputs": [],
   "source": []
  },
  {
   "cell_type": "markdown",
   "id": "3426bcc6-ba6b-4ada-a6f6-d7d29b89bccb",
   "metadata": {},
   "source": [
    "### Visualizar desempeño"
   ]
  },
  {
   "cell_type": "code",
   "execution_count": null,
   "id": "726813bb-39d5-49a6-89ad-0ae7566e4a33",
   "metadata": {},
   "outputs": [],
   "source": []
  },
  {
   "cell_type": "markdown",
   "id": "ec0f5fb7-174e-4c2f-a936-083b19509e8a",
   "metadata": {},
   "source": [
    "### Balance monetario"
   ]
  },
  {
   "cell_type": "code",
   "execution_count": null,
   "id": "53f8c508-808e-41cb-a795-a9b899f33efe",
   "metadata": {},
   "outputs": [],
   "source": []
  },
  {
   "cell_type": "markdown",
   "id": "ea90342d-8172-47b5-a487-a45ccba553b2",
   "metadata": {},
   "source": [
    "### Balance: Máximos"
   ]
  },
  {
   "cell_type": "code",
   "execution_count": null,
   "id": "437e4d3b-a51e-4622-9ad0-3d6e96f21138",
   "metadata": {},
   "outputs": [],
   "source": []
  },
  {
   "cell_type": "markdown",
   "id": "4e0624a7-dc47-43e6-816b-75b3f2e4a4a5",
   "metadata": {},
   "source": [
    "### Balance: Perdidas"
   ]
  },
  {
   "cell_type": "code",
   "execution_count": null,
   "id": "8f4ae657-01ea-4382-b8a5-afef54b8ef6b",
   "metadata": {},
   "outputs": [],
   "source": []
  },
  {
   "cell_type": "markdown",
   "id": "671f2ec6-aca1-4f83-96e7-0cc9198d564f",
   "metadata": {},
   "source": [
    "### Encontrar pérdida máxima"
   ]
  },
  {
   "cell_type": "markdown",
   "id": "83d8bdd4-2324-465d-bf30-48b6bbe23676",
   "metadata": {},
   "source": [
    "Pasos:\n",
    "1. Identificar la mayor pérdida del periodo\n",
    "1. Encontrar la fecha de la mayor pérdida\n",
    "1. Identificar el pico máximo acumulado en la fecha de la mayor perdida\n",
    "1. Identificar el balance en la fecha de la mayor pérdida\n",
    "1. Graficar"
   ]
  },
  {
   "cell_type": "markdown",
   "id": "dfddc338-28b2-4dd9-96ec-39eb13258b65",
   "metadata": {},
   "source": [
    "#### dentificar la mayor perdida"
   ]
  },
  {
   "cell_type": "code",
   "execution_count": null,
   "id": "dee86641-4d19-4d5d-ab80-5d22c1915021",
   "metadata": {},
   "outputs": [],
   "source": []
  },
  {
   "cell_type": "markdown",
   "id": "edc5d1b3-8e9c-425d-a558-d0cab29ed123",
   "metadata": {},
   "source": [
    "#### Encontrar fecha"
   ]
  },
  {
   "cell_type": "code",
   "execution_count": null,
   "id": "4ed2c5c2-94e1-4a7d-91e5-b64dfb6a0542",
   "metadata": {},
   "outputs": [],
   "source": []
  },
  {
   "cell_type": "markdown",
   "id": "0ad15013-5836-42ec-b140-467650dd8f5b",
   "metadata": {},
   "source": [
    "#### Identificar valor del pico máximo en la fecha de la mayor perdida"
   ]
  },
  {
   "cell_type": "code",
   "execution_count": null,
   "id": "49673dff-7d25-48ef-bd61-8a2c7507a69c",
   "metadata": {},
   "outputs": [],
   "source": []
  },
  {
   "cell_type": "markdown",
   "id": "f89e03bd-2e08-4276-9044-3415b5ff3431",
   "metadata": {},
   "source": [
    "#### Identificar balance en la fecha de la mayor pérdida"
   ]
  },
  {
   "cell_type": "code",
   "execution_count": null,
   "id": "59718673-4189-42ea-a5d8-0d016dba4444",
   "metadata": {},
   "outputs": [],
   "source": []
  },
  {
   "cell_type": "markdown",
   "id": "b7fa8a3b-b335-4149-ae25-d65ee643b77d",
   "metadata": {
    "tags": []
   },
   "source": [
    "## Estrategia de Reversión a la Media"
   ]
  },
  {
   "cell_type": "markdown",
   "id": "90a57b3c-5efc-4aac-98d3-04fdd2cf6850",
   "metadata": {},
   "source": [
    "La idea de las estrategias de reversión a la media se basan en el concepto de que el precio volverá a su precio medio. Una forma común de implementar esta estrategia es con las Bandas de Bollinger."
   ]
  },
  {
   "cell_type": "markdown",
   "id": "bfcfb024-ae07-425c-8c71-2bc2c61a3a2c",
   "metadata": {},
   "source": [
    "### Bandas de Bollinger"
   ]
  },
  {
   "cell_type": "markdown",
   "id": "599c3810-ea2e-4435-a85f-b75c07f726ab",
   "metadata": {},
   "source": [
    "Las Bandas de Bollinger son un indicador de volatilidad desarrollado por John Bollinger.  La estrategia consiste en crear un rango alrededor del precio medio. Cuando el precio de la acción cruza por encima de la banda superior, se genera una señal de venta ya que se considera que el precio está \"sobrevaluado\" y es probable que sufra una corrección. Cuando el precio cruza por debajo de la banda inferior, se genera una señal de compra ya que se considera que el precio está \"subvaluado\" y es probable que se produzca un rebote.\n",
    "\n",
    "Se calculan a partir de una media móvil (generalmente de 20 períodos) a la que se añaden dos bandas situadas a dos desviaciones estándar de la media. De esta forma, las bandas se ensanchan o se estrechan en función de la volatilidad del mercado.\n",
    "\n",
    "La fórmula para calcular las Bandas de Bollinger es la siguiente:"
   ]
  },
  {
   "cell_type": "markdown",
   "id": "9ea840e5-5b1d-4a21-8737-32a08642b69f",
   "metadata": {},
   "source": [
    "$$Banda\\_promedio=\\frac{1}{n}\\sum_{i=0}^{n-1}Precio_{t-i}$$"
   ]
  },
  {
   "cell_type": "markdown",
   "id": "f25c21a9-e69e-4cdc-b213-5b0deca00d82",
   "metadata": {},
   "source": [
    "$$Banda\\_superior = Banda\\_media + k \\cdot \\sigma_{n}$$"
   ]
  },
  {
   "cell_type": "markdown",
   "id": "eabd40b3-b4b6-4a87-9ecc-2ef0e598d2a5",
   "metadata": {},
   "source": [
    "$$Banda\\_inferior = Banda\\_media - k \\cdot \\sigma_{n}$$"
   ]
  },
  {
   "cell_type": "markdown",
   "id": "73979ebb-0581-4fc5-b237-f80ef90a58b2",
   "metadata": {},
   "source": [
    "Donde:\n",
    "* $n$ es el número de periodos \n",
    "* $k$ es el número de desviaciones estándar que queremos que la banda se aleje de la media móvil.  Por lo general $k=2$\n",
    "* $\\sigma_n$ es la desviación estándar de los precios en los últimos $n$ días"
   ]
  },
  {
   "cell_type": "code",
   "execution_count": null,
   "id": "a922e651-282f-491c-9d57-380b2ca92ed1",
   "metadata": {},
   "outputs": [],
   "source": []
  },
  {
   "cell_type": "markdown",
   "id": "d2641f10-d680-4333-ae23-5e3c9898162f",
   "metadata": {
    "tags": []
   },
   "source": [
    "## Estrategia de Momentum"
   ]
  },
  {
   "cell_type": "markdown",
   "id": "56f1d155-2494-471d-a1e4-252fb1dcb7cb",
   "metadata": {},
   "source": [
    "Las estrategias de Momentum, buscan aprovechar las tendencias del mercado.  Existen varias estrategias como Momentum (corto, largo plazo), Momentum inverso, Indice de Fuerza Relativa, etc.  En lo general todas estas estrategias implican medir el rendimiento pasado de los activos en relación con un período de tiempo determinado."
   ]
  },
  {
   "cell_type": "markdown",
   "id": "93c8fb1f-24c0-4555-afa0-6348dfa60684",
   "metadata": {},
   "source": [
    "### Estrategia de Momentum"
   ]
  },
  {
   "cell_type": "markdown",
   "id": "bbc11178-d467-47ed-afc5-f87bc98d3096",
   "metadata": {},
   "source": [
    "Consiste en comprar activos financieros (en nuestro caso acciones) que han mostrado un rendimiento superior y vender aquellos que han tenido un rendimiento inferior, bajo la suposición de que las acciones que han subido en precio continuarán subiendo, y aquellas que han bajado continuarán bajando. Esta estrategia se basa en la psicología del mercado y en la tendencia de los inversionistas a subestimar la magnitud y persistencia de las tendencias del precio de los activos financieros. "
   ]
  },
  {
   "cell_type": "markdown",
   "id": "00f5b265-4cdf-4e4f-8211-44c2698c2f0c",
   "metadata": {
    "tags": []
   },
   "source": [
    "### Indice de Fuerza Relativa - RSI (Relative Streght Index)"
   ]
  },
  {
   "cell_type": "markdown",
   "id": "b211f4ee-62e2-4897-90c6-0d171d07ebb5",
   "metadata": {},
   "source": [
    "Es un oscilador de momento que mide la velocidad y el cambio de los movimientos de precio de un valor. El RSI oscila entre 0 y 100 y se utiliza principalmente para identificar condiciones de sobrecompra o sobreventa en un mercado.  El RSI se interpreta generalmente de la siguiente manera:\n",
    "* RSI > 70:  La acción puede estar sobrecomprada, puede ser un buen momento para vender\n",
    "* RSI < 30:  La acción puede estar sobrevendida, puede ser un buen momento para comprar\n",
    "* 30 < RSI < 70:  La acción está en una zona de neutralidad y el mercado está equilibrado"
   ]
  },
  {
   "cell_type": "markdown",
   "id": "5f76969c-a4f6-483c-9d17-800b45d52634",
   "metadata": {},
   "source": [
    "#### Pasos para calcular el RSI"
   ]
  },
  {
   "cell_type": "markdown",
   "id": "a85321ae-600d-4547-bf9a-b39e072061d8",
   "metadata": {},
   "source": [
    "1. Seleccionar un número de períodos de tiempo a incluir en el cálculo del RSI. El valor más comúnmente utilizado es 14.\n",
    "1. Calcular el cambio de precio de un período de tiempo a otro.\n",
    "1. Calcular el promedio de ganancias y pérdidas durante el periodo seleccionado (RS).<br><br>\n",
    "$$RS=\\frac{PromedioGananciasEnNPeriodos}{PromediosPerdidasEnNPeriodos}$$<br><br>\n",
    "1. Calcular el índice de fuerza relativa usando la fórmula:<br>\n",
    "$$RSI = 100 - \\frac{100}{1 + RS}$$<br>"
   ]
  },
  {
   "cell_type": "code",
   "execution_count": null,
   "id": "5791c19c-43b4-4111-bcb9-87dd2ee49cab",
   "metadata": {},
   "outputs": [],
   "source": []
  },
  {
   "cell_type": "markdown",
   "id": "fff01d3d-9aa5-45b4-828b-780139656565",
   "metadata": {},
   "source": [
    "# <font color='#2B17B0'>Utilizar dos estrategias</font>"
   ]
  },
  {
   "cell_type": "code",
   "execution_count": null,
   "id": "efb0cb18-ee59-40cd-84c4-b8cb94cb6ae1",
   "metadata": {},
   "outputs": [],
   "source": []
  }
 ],
 "metadata": {
  "kernelspec": {
   "display_name": "Python 3 (ipykernel)",
   "language": "python",
   "name": "python3"
  },
  "language_info": {
   "codemirror_mode": {
    "name": "ipython",
    "version": 3
   },
   "file_extension": ".py",
   "mimetype": "text/x-python",
   "name": "python",
   "nbconvert_exporter": "python",
   "pygments_lexer": "ipython3",
   "version": "3.11.3"
  }
 },
 "nbformat": 4,
 "nbformat_minor": 5
}
