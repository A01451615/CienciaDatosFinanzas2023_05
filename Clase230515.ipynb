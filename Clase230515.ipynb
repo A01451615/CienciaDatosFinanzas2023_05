{
 "cells": [
  {
   "cell_type": "markdown",
   "id": "d332a88d-a779-4854-9483-c4efb19a7fc8",
   "metadata": {},
   "source": [
    "# COMENTARIOS INICIALES"
   ]
  },
  {
   "cell_type": "markdown",
   "id": "b80ad705-193a-4036-9175-e7a0beeeec70",
   "metadata": {
    "tags": []
   },
   "source": [
    "## Contacto"
   ]
  },
  {
   "cell_type": "markdown",
   "id": "12cf628c-1969-4dac-b1e6-65f39bf081b1",
   "metadata": {},
   "source": [
    "email: carlos@oncedos.com"
   ]
  },
  {
   "cell_type": "markdown",
   "id": "c54d8481-e0aa-43d0-973a-3b6dbe06bf92",
   "metadata": {},
   "source": [
    "## Asesorías"
   ]
  },
  {
   "cell_type": "markdown",
   "id": "aead3dc5-2184-420e-84e1-11d137385d48",
   "metadata": {},
   "source": [
    "Bajo previa cita con un día de anticipación:<br>\n",
    "https://calendar.google.com/calendar/u/0/selfsched?sstoken=UUhsM1JEZVNKeHYzfGRlZmF1bHR8ODRmMDQ3ODY4MTJhMzgxMTQ0NmJkN2FhOGM5MjlhOTE"
   ]
  },
  {
   "cell_type": "markdown",
   "id": "de22a107-9947-4ab3-b1b8-4976bc3ea155",
   "metadata": {},
   "source": [
    "## Github\n",
    "URL del repositorio:<br>\n",
    "https://github.com/carlosdeoncedos/CienciaDatosFinanzas2023_05.git <br>\n",
    "\n",
    "Para verificar si GitHub está instaldo corre el siguiente comando desde la ventana de terminal:\n",
    "`git --version`.  Si está instalado, arrojará la versión instalada.\n",
    "\n"
   ]
  },
  {
   "cell_type": "markdown",
   "id": "3d657c2b-d7de-4f8d-84c4-41353a90769f",
   "metadata": {
    "tags": []
   },
   "source": [
    "### Instalar GitHub\n",
    "En caso de no tener Github instalado:"
   ]
  },
  {
   "cell_type": "markdown",
   "id": "f605cbfa-d025-4cf8-82da-95b9e84f5251",
   "metadata": {
    "tags": []
   },
   "source": [
    "##### **MAC OS:**\n",
    "1. Abre la Terminal en tu Mac.\n",
    "1. Ejecuta el siguiente comando para instalar Homebrew:<br>\n",
    "    `/bin/bash -c \"$(curl -fsSL https://raw.githubusercontent.com/Homebrew/install/HEAD/install.sh)\"`\n",
    "1. Ejecuta el siguiente comando para instalar Git usando Homebrew:\n",
    "    `brew install git`"
   ]
  },
  {
   "cell_type": "markdown",
   "id": "b8d67c2b-681c-4104-9a17-0cf087b67fa0",
   "metadata": {},
   "source": [
    "##### **WINDOWS**:\n",
    "1. Ve al sitio web oficial de Git: https://git-scm.com/download/win\n",
    "1. La descarga del instalador de Git para Windows debería comenzar automáticamente. Si no es así, haz clic en el enlace \"click here to download manually\" (haz clic aquí para descargar manualmente) en la página.\n",
    "1. Ejecuta el archivo de instalación que descargaste en el Paso 1.\n",
    "1. Selecciona las opciones de instalación que prefieras y sigue las instrucciones del instalador. Si no estás seguro de qué opciones elegir, las predeterminadas suelen ser adecuadas para la mayoría de los usuarios.\n",
    "1. Haz clic en \"Install\" (Instalar) para comenzar la instalación.\n",
    "1. Una vez que se complete la instalación, Git estará instalado en tu computadora con Windows."
   ]
  },
  {
   "cell_type": "markdown",
   "id": "5fa3ecca-dcaf-4b7c-8e13-4ed21e0e4e78",
   "metadata": {},
   "source": [
    "##### **CREAR USUARIO**\n",
    "1. Entra a la página https://github.com\n",
    "1. En la página principal de GitHub, localiza el formulario de registro.\n",
    "1. Ingresa un nombre de usuario único. GitHub verificará si el nombre de usuario está disponible.\n",
    "1. Ingresa una dirección de correo electrónico válida. Asegúrate de que sea una dirección de correo electrónico a la que tengas acceso, ya que GitHub enviará un correo electrónico de verificación.\n",
    "1. Crea una contraseña segura siguiendo las pautas de GitHub. La contraseña debe tener al menos 8 caracteres y debe incluir letras mayúsculas y minúsculas, números y símbolos.\n",
    "1. Haz clic en el botón \"Sign up for GitHub\" (Regístrate en GitHub) para continuar.\n",
    "1. GitHub te enviará un correo electrónico de verificación a la dirección de correo electrónico que proporcionaste.\n",
    "1. Abre el correo electrónico y haz clic en el enlace de verificación para confirmar tu dirección de correo electrónico y continuar con el proceso de registro.\n",
    "1. GitHub te mostrará diferentes planes disponibles. Elige el plan gratuito y haz clic en \"Continue\". El plan gratuito te permitirá crear repositorios públicos ilimitados y colaborar en repositorios privados.\n",
    "1. GitHub te ofrecerá la opción de personalizar tu experiencia proporcionando información adicional sobre tus intereses y preferencias. Puedes completar esta información si lo deseas, pero no es obligatorio.\n",
    "1. Una vez que hayas proporcionado la información que desees, haz clic en \"Submit\" (Enviar) o \"Skip this step\" (Omitir este paso) si prefieres no proporcionar esta información."
   ]
  },
  {
   "cell_type": "markdown",
   "id": "1add6b78-b125-4b81-b71a-9bcd87e600a6",
   "metadata": {},
   "source": [
    "### Clonar repositorio"
   ]
  },
  {
   "cell_type": "markdown",
   "id": "da8003f0-fe39-48ab-a30f-04adcf8159f6",
   "metadata": {},
   "source": [
    "1. Navega a la página principal del repositorio de la clase (Ver URL).\n",
    "1. Haz clic en el botón verde \"Code\" cerca de la esquina superior derecha de la página.\n",
    "1. En el menú desplegable, elige entre HTTPS o SSH en \"Clone\". Si no estás seguro de cuál usar, se recomienda HTTPS para la mayoría de los usuarios debido a su simplicidad y compatibilidad. Copia la URL proporcionada.\n",
    "1. Abre tu terminal (en macOS o Linux) o Command Prompt (en Windows) en la computadora y ve al directorio donde deseas clonar el repositorio\n",
    "1. Ejecutar el siguiente comando para clonar repositorio:<br>\n",
    "    `git clone https://github.com/carlosdeoncedos/CienciaDatosFinanzas2023_05.git`"
   ]
  },
  {
   "cell_type": "markdown",
   "id": "ecadc1cd-2f46-40d7-9fc9-0249fda3f4f2",
   "metadata": {},
   "source": [
    "## Librería dabu"
   ]
  },
  {
   "cell_type": "markdown",
   "id": "5a95bfd6-894d-43cd-b54f-51be1ef1f2c2",
   "metadata": {},
   "source": [
    "Para instalar la librería dabu:\n",
    "1. Habre tu en macOS o Linux) o Command Prompt (en Windows)\n",
    "1. Ejecuta el siguiente código:<br>\n",
    "`pip3 install dabu`"
   ]
  },
  {
   "cell_type": "markdown",
   "id": "be9d3486-36d1-464f-8aaf-4a582094274f",
   "metadata": {
    "tags": []
   },
   "source": [
    "# GRAFICA RETORNOS"
   ]
  },
  {
   "cell_type": "markdown",
   "id": "26bac929-e29a-4f18-8617-a86468c6b601",
   "metadata": {
    "tags": []
   },
   "source": [
    "![Retornos](imagenes/retornos_mensuales.png)"
   ]
  },
  {
   "cell_type": "markdown",
   "id": "4d89a1ed-7df6-4cfc-bf9d-136185bb1468",
   "metadata": {},
   "source": [
    "Puntos clave de la gráfica \"Retornos mensuales\":\n",
    "* _Importancia de comprender los retornos_\n",
    "* _Mismo rendimiento mensual promedio: 1%_\n",
    "* _Diferentes volatilidades_\n",
    "* _Limitaciones de los retornos promedio:_\n",
    "    * _Potencial para conclusiones engañosas_"
   ]
  },
  {
   "cell_type": "markdown",
   "id": "425f2e74-d0f0-4bc1-9efb-d75aebc23491",
   "metadata": {
    "tags": []
   },
   "source": [
    "![Desempeño](imagenes/desempeno_inversion.png)"
   ]
  },
  {
   "cell_type": "markdown",
   "id": "a307f3b1-7d5d-4d60-a1f4-450cf2c65dbc",
   "metadata": {},
   "source": [
    "Puntos clave de la gráfica \"Demepeño de invertir \\$100 en cada activo\":\n",
    "* *Inversión inicial de $100 en ambos activos*\n",
    "* _Evolución de los activos durante el años_\n",
    "    * _Activo azul: crecimiento estable y positivo_\n",
    "    * _Activo naranja: comportamiento volátil_\n",
    "* _Activos con el mismo retorno promedio al final del periodo_\n",
    "* _No confundir retorno promedio con ganancias finales_"
   ]
  },
  {
   "cell_type": "markdown",
   "id": "c2ab0d86-d48d-496e-a0c9-0b0987f7849c",
   "metadata": {},
   "source": [
    "# Retornos"
   ]
  },
  {
   "cell_type": "markdown",
   "id": "1a09afa3-0c12-4801-816b-5bc0a569b2cb",
   "metadata": {
    "tags": []
   },
   "source": [
    "## Retorno (aritmétrico)"
   ]
  },
  {
   "cell_type": "markdown",
   "id": "94ed0790-8439-4ce7-9628-018d07b29616",
   "metadata": {},
   "source": [
    "> _El **retorno** es un indicador esencial que refleja la ganancia o pérdida en una inversión en comparación con la cantidad invertida inicialmente, y se expresa en forma de porcentaje o decimal. Este indicador nos permite evaluar el desempeño de las inversiones, comparar diversas opciones y tomar decisiones fundamentadas en la asignación de recursos. Alcanzar el equilibrio adecuado entre riesgo y retorno es crucial para desarrollar una estrategia de inversión exitosa._<br><br>\n",
    "> _**IMPORTANTE**: Por lo general los rendimientos **más altos**  conllevan **mayores riesgos**._<br>"
   ]
  },
  {
   "cell_type": "markdown",
   "id": "50ac41c8-3e62-43b6-b043-3d0b742fabf9",
   "metadata": {},
   "source": [
    "<br><br>\n",
    "$$\\Large R=\\frac{P_1-P_0}{P_0}\\rightarrow R=\\frac{P_1}{P_0}-1$$"
   ]
  },
  {
   "cell_type": "markdown",
   "id": "49f7571d-b095-460f-bc1e-3524ccb756c5",
   "metadata": {},
   "source": [
    " "
   ]
  },
  {
   "cell_type": "markdown",
   "id": "4375d744-f85f-43df-b8cc-fe19ff647a4d",
   "metadata": {},
   "source": [
    "<br><br>\n",
    "$$\\Large R=\\frac{P_1+Div_{t_0, t_1}-P_0}{P_0}\\rightarrow R=\\frac{P_1+Div_{t_0, t_1}}{P_0}-1$$"
   ]
  },
  {
   "cell_type": "markdown",
   "id": "21560897-5a63-4973-9dc6-b8a6db2d4da2",
   "metadata": {
    "tags": []
   },
   "source": [
    "## Retorno Multiple Periodos"
   ]
  },
  {
   "cell_type": "markdown",
   "id": "01cacdcc-95a1-48fd-ab83-b8c756d38ae2",
   "metadata": {
    "tags": []
   },
   "source": [
    "### Flujos de efectivo"
   ]
  },
  {
   "cell_type": "markdown",
   "id": "1914e932-f031-418d-ba48-9fc148b51ad0",
   "metadata": {},
   "source": [
    "> _Los flujos de efectivo representan el movimiento de dinero que se recibe o se gasta a lo largo de un período determinado. Estos flujos pueden ser entrantes (dinero recibido) o salientes (dinero gastado), y su ocurrencia puede ser regular o esporádica._\n",
    "<br><br>\n",
    "> _Visualizar el flujo de efectivo en un gráfico facilita la comprensión de los datos financieros complejos, mejorando así la toma de decisiones. Los gráficos muestran la dirección de los flujos (entrantes o salientes), las cantidades de dinero, el número de períodos y la frecuencia con la que ocurren._"
   ]
  },
  {
   "cell_type": "markdown",
   "id": "d665e31b-d806-4336-9914-987b55fed44f",
   "metadata": {},
   "source": [
    "### Gráfica flujos efectivo"
   ]
  },
  {
   "cell_type": "markdown",
   "id": "cdeb7d7c-3ae1-4a61-a8e4-ab8f93abbb79",
   "metadata": {},
   "source": [
    "![PERIODO](imagenes/flujos_periodo.png)"
   ]
  },
  {
   "cell_type": "markdown",
   "id": "8b151e8e-c3a7-46ef-ac76-3c9a87de810b",
   "metadata": {
    "tags": []
   },
   "source": [
    "### Calcular el retorno de los flujos"
   ]
  },
  {
   "cell_type": "markdown",
   "id": "8049a023-dde7-4ae4-86ae-4a3a94094f73",
   "metadata": {},
   "source": [
    "![PERIODO](imagenes/retorno_periodo.png)"
   ]
  },
  {
   "cell_type": "markdown",
   "id": "754e10d2-aa00-4c42-b58c-f9c37f22c8f8",
   "metadata": {
    "tags": []
   },
   "source": [
    "#### Calcular retorno $R_{0,1}$"
   ]
  },
  {
   "cell_type": "code",
   "execution_count": null,
   "id": "fd5955e8-2ce0-47bb-9501-cfc96521c847",
   "metadata": {},
   "outputs": [],
   "source": []
  },
  {
   "cell_type": "markdown",
   "id": "407d877e-3ded-4e81-a8ba-f5dd97ba27e5",
   "metadata": {
    "tags": []
   },
   "source": [
    "#### Calcular retorno $R_{1,2}$"
   ]
  },
  {
   "cell_type": "code",
   "execution_count": null,
   "id": "e718f5bc-405d-45f2-9c1f-8c47338fc779",
   "metadata": {},
   "outputs": [],
   "source": []
  },
  {
   "cell_type": "markdown",
   "id": "9fa484ee-9bd9-49c2-8b07-b5d984a24a4a",
   "metadata": {
    "tags": []
   },
   "source": [
    "### Calcular retorno perído multiples: $t_0$ a $t_2$"
   ]
  },
  {
   "cell_type": "markdown",
   "id": "4bf7ce50-9685-46cb-9929-ab2a2d75a4d1",
   "metadata": {},
   "source": [
    "![MULTIPERIODO](imagenes/retorno_multiples_periodos.png)"
   ]
  },
  {
   "cell_type": "markdown",
   "id": "df40b602-d50b-477f-b3f8-b63103b8f400",
   "metadata": {
    "tags": []
   },
   "source": [
    "### Cálculo intuitivo"
   ]
  },
  {
   "cell_type": "code",
   "execution_count": null,
   "id": "23de1b7a-8cb5-4ee5-bc51-8c5ac2c426bd",
   "metadata": {},
   "outputs": [],
   "source": []
  },
  {
   "cell_type": "markdown",
   "id": "73e8dad3-3e7a-4128-ab33-8f4aa1eafd07",
   "metadata": {},
   "source": [
    "#### Comprobación"
   ]
  },
  {
   "cell_type": "code",
   "execution_count": null,
   "id": "b3183ccf-a330-4835-ab70-9b95cde42525",
   "metadata": {},
   "outputs": [],
   "source": []
  },
  {
   "cell_type": "markdown",
   "id": "9d37afdf-e39b-4f70-88a5-69d79068327f",
   "metadata": {},
   "source": [
    "### Calculando el **retorno compuesto** $R_{0,2}$ a partir de los retornos $R_{0,1}$ y $R_{1,2}$"
   ]
  },
  {
   "cell_type": "markdown",
   "id": "a5014fec-7127-47bc-bcea-47029567712b",
   "metadata": {},
   "source": [
    "Recordar:"
   ]
  },
  {
   "cell_type": "code",
   "execution_count": 8,
   "id": "297db683-9f8d-4303-9ed1-15fc52ec2952",
   "metadata": {
    "tags": []
   },
   "outputs": [
    {
     "name": "stdout",
     "output_type": "stream",
     "text": [
      "Retorno R01: 0.3500\n",
      "Retorno R12: 0.0317\n"
     ]
    }
   ],
   "source": [
    "print(f\"Retorno R01: {}\")\n",
    "print(f'Retorno R12: {}')"
   ]
  },
  {
   "cell_type": "code",
   "execution_count": null,
   "id": "babba4f3-306d-4bf6-a4a5-f1f895bd04f6",
   "metadata": {},
   "outputs": [],
   "source": []
  },
  {
   "cell_type": "code",
   "execution_count": null,
   "id": "df752830-5124-4422-b7b7-e61fa271a0c3",
   "metadata": {},
   "outputs": [],
   "source": []
  },
  {
   "cell_type": "markdown",
   "id": "33926d76-f8d4-4c78-937e-47908750b563",
   "metadata": {},
   "source": [
    "### Retorno compuesto"
   ]
  },
  {
   "cell_type": "markdown",
   "id": "066f4cfe-cd2e-4197-aa0d-a82cc4cde29c",
   "metadata": {},
   "source": [
    "<br><br>\n",
    "$$\\large R_{t_0,t_2}=(1+R_{t_0,t_1})(1+R_{t_1,t_2})-1$$\n",
    "<br><br>\n",
    "$$\\large R_{t_0,t_n}=(1+R_{t_0,t_1})(1+R_{t_1,t_2}) \\ldots (1+R_{t_{n-1},t_n})-1\\text{, donde } t_n \\text{repesenta el tiempo en el periodo \"n\"}$$, <br>"
   ]
  },
  {
   "cell_type": "markdown",
   "id": "c60d0bf5-3786-4689-8261-3461bbd5f813",
   "metadata": {},
   "source": [
    "# ANUALIZAR RETORNOS"
   ]
  },
  {
   "cell_type": "markdown",
   "id": "d3d3560a-bb62-4ff5-a94b-22e409c7f295",
   "metadata": {},
   "source": [
    "## Fórmula para anualizar retorno en cualquier periodo de tiempo"
   ]
  },
  {
   "cell_type": "markdown",
   "id": "5796334d-8f13-4da1-922a-d93aa245b20b",
   "metadata": {},
   "source": [
    "$$\\Large R_{a}=(1+R_{P})^{\\frac{PeriodosPorAño}{NúmeroDePeriodos}}-1$$\n",
    "Donde<br>\n",
    "* $R_a$: Retorno anualizado<br>\n",
    "* $R_P$: Retorno del periodos<br>\n",
    "* $PeriodosPorAño$:  Números de periodos presentes en un año<br>\n",
    "* $NúmeroDePeriodos$:  Números de periodos que representa el $R_p$"
   ]
  },
  {
   "cell_type": "markdown",
   "id": "72075311-5d72-43bd-bbdb-1c51d261f8f6",
   "metadata": {},
   "source": [
    "## Pasos para anualizar un retorno bimestral"
   ]
  },
  {
   "cell_type": "markdown",
   "id": "69c94733-f46a-4110-83e1-af93f8e014af",
   "metadata": {},
   "source": [
    "1. Calcular `retorno`\n",
    "1. Determinar el número de bimestres en un año\n",
    "1. Anualizar el `retorno` siguiendo el método geométrico $r = (1 + r)^6 - 1$"
   ]
  },
  {
   "cell_type": "markdown",
   "id": "2f6b0da2-4718-4bb4-923a-09e966c89737",
   "metadata": {},
   "source": [
    "1. _**Retornos Simples**_\n",
    "    1. _Definición: El cambio porcentual en el valor de una inversión durante un período_\n",
    "    1. _Fórmula:_ $\\large \\frac{PrecioFinal}{PrecioInicial}-1$\n",
    "    1. _Interpretación: Los valores positivos indican ganancias, mientras que los valores negativos indican pérdidas_\n",
    "    1. _Aplicaciones: Comparar el rendimiento de diferentes inversiones o calcular rendimientos históricos_\n",
    "    1. _Ejemplo:_\n",
    "        1. _Supongamos que compraste acciones de una empresa a \\\\$100 por acción, y un año después, el precio de la acción aumentó a \\$120.  El retorno simple sería:_\n",
    "$$\\frac{PrecioFinal}{PrecioInicial}-1 \\Longrightarrow \\frac{120}{100}-1=0.2\\longleftrightarrow 20\\%$$\n",
    "    1. _Recordar notación \"**1+r**\" en finanzas computacionels_<br><br>\n",
    "1. _**Retornos Compuestos**_\n",
    "    1. _Definición: El efecto acumulativo de múltiples períodos de rendimientos en una inversión_\n",
    "    1. _Fórmula:_  $(1+R_1)*(1+R_2)*\\cdots*(1+R_{n-1})*(1+R_n) -1$\n",
    "    1. _Interpretación: Mide el crecimiento general de una inversión, teniendo en cuenta los efectos del interés compuesto_\n",
    "    1. _Aplicaciones: Evaluar el rendimiento a largo plazo de una inversión o comparar inversiones con diferentes patrones de rendimiento_\n",
    "    1. _Ejemplo:_\n",
    "        1. _Supongamos que invertiste en una acción que tuvo los siguientes rendimientos mensuales durante cuatro meses: 10%, -5%, 15% y 7%. Para calcular el rendimiento compuesto_:\n",
    "$$(1+R_1)*(1+R_2)\\cdot\\cdots*(1+R_{n-1})*(1+R_n) -1 \\Longrightarrow (1 + 0.10) * (1 - 0.05) * (1 + 0.15) * (1 + 0.07) - 1=0.2821$$\n",
    "<br><br>\n",
    "1. _**Retornos anualizados**_\n",
    "    1. _Definición: El retorno de una inversión escalado a un período anual_\n",
    "    1. _Fórmula:_ $(1+R_p)^\\frac{PeriodosPorAño}{NúmeroPeriodos}-1$, \n",
    "    1. _Interpretación: Proporciona una medida estandarizada de rendimiento, permitiendo la comparación entre inversiones con diferentes horizontes temporales_\n",
    "    1. _Aplicaciones: Comparar inversiones con diferentes períodos de tenencia, estimar el rendimiento futuro de una inversión o evaluar el rendimiento de una cartera de inversiones_"
   ]
  },
  {
   "cell_type": "markdown",
   "id": "0a9c801d-a8b8-4074-9ea3-ad793c311b89",
   "metadata": {},
   "source": [
    "|Frecuencia|Fórmula|\n",
    "|:-:|:-:|\n",
    "|Diaria|$$(1+R_p)^{252}-1$$|\n",
    "|Mensual|$$(1+R_p)^{12}-1$$|\n",
    "|Bimestral|$$(1+R_p)^{6}-1$$|\n",
    "|Trimestral|$$(1+R_p)^{4}-1$$|\n",
    "|Semestral|$$(1+R_p)^{2}-1$$|\n"
   ]
  },
  {
   "cell_type": "markdown",
   "id": "9dfd2cb6-6f8b-4f44-b8a1-ff6ea1d07e35",
   "metadata": {},
   "source": [
    "#### Anualizar retorno diario"
   ]
  },
  {
   "cell_type": "code",
   "execution_count": null,
   "id": "8c491cf4-c5f7-4c0b-adf8-d50df5ab13ae",
   "metadata": {},
   "outputs": [],
   "source": []
  },
  {
   "cell_type": "markdown",
   "id": "43ac0cf7-ddb0-4141-b4d9-ff8f9887c235",
   "metadata": {},
   "source": [
    "#### Anualizar retorno mensual"
   ]
  },
  {
   "cell_type": "code",
   "execution_count": null,
   "id": "46eca23a-c0a2-4088-969a-3dc27fc44044",
   "metadata": {},
   "outputs": [],
   "source": []
  },
  {
   "cell_type": "markdown",
   "id": "8c341cde-1872-4992-8546-a6dfbf6ed746",
   "metadata": {},
   "source": [
    "#### Anualizar retorno bimestral"
   ]
  },
  {
   "cell_type": "code",
   "execution_count": null,
   "id": "ad4074c4-db10-4d81-8705-9e84420c1ea3",
   "metadata": {},
   "outputs": [],
   "source": []
  },
  {
   "cell_type": "markdown",
   "id": "c2050f44-e9c2-4314-8c7c-ed7eed08b968",
   "metadata": {},
   "source": [
    "#### Anualizar retorno trimestral"
   ]
  },
  {
   "cell_type": "code",
   "execution_count": null,
   "id": "b1d2a4ae-f88f-45f4-a2d5-6f78e0b81d22",
   "metadata": {},
   "outputs": [],
   "source": []
  },
  {
   "cell_type": "markdown",
   "id": "441f056f-5e34-4fd6-9b87-116233a339a6",
   "metadata": {},
   "source": [
    "#### Anualizar retorno semestral"
   ]
  },
  {
   "cell_type": "code",
   "execution_count": null,
   "id": "b94d6e8f-06ad-49db-b784-dd149e9033f9",
   "metadata": {},
   "outputs": [],
   "source": []
  },
  {
   "cell_type": "markdown",
   "id": "40a4fded-89ee-499b-80d7-eaf70941ec1a",
   "metadata": {},
   "source": [
    "#### Anualizar retorno 2 años"
   ]
  },
  {
   "cell_type": "code",
   "execution_count": null,
   "id": "ec0f7ef3-6f95-479c-a8da-36f69dd79a20",
   "metadata": {},
   "outputs": [],
   "source": []
  },
  {
   "cell_type": "markdown",
   "id": "5759862f-4e9b-44a0-b492-9a2d6b7a313a",
   "metadata": {},
   "source": [
    "# ACTIVIDAD EN CLASE"
   ]
  },
  {
   "cell_type": "markdown",
   "id": "cb601a57-3324-4bd5-896f-51be73510d41",
   "metadata": {},
   "source": [
    "Desarrolla la función `retorno` para calcular el retorno de los flujos de efectivo presentes en el diccionario `dict_flujos`. La función debe cumplir con los siguientes requisitos:\n",
    "\n",
    "1. Aceptar lista o diccionario con los valores a evaluar\n",
    "1. No utilizar librerías externas (como Numpy, Pandas, etc.)\n",
    "1. El resultado debe de ser bajo la notación 1+r\n",
    "\n",
    "Comprobar el correcto funcionamiento de la función"
   ]
  },
  {
   "cell_type": "code",
   "execution_count": 46,
   "id": "b4b5c8c5-6320-4095-82df-91c42bb5a854",
   "metadata": {
    "tags": []
   },
   "outputs": [],
   "source": [
    "dict_flujos = {\n",
    "    0: 6.3,\n",
    "    1: 6.44881034482759,\n",
    "    2: 6.30818275862069,\n",
    "    3: 6.10781379310345,\n",
    "    4: 6.31839310344828\n",
    "}"
   ]
  },
  {
   "cell_type": "markdown",
   "id": "ddb9e493-56f8-4c23-9080-353ddebb21a5",
   "metadata": {},
   "source": [
    "# LIBRERIA HERRAMIENTAS FINANCIERAS"
   ]
  },
  {
   "cell_type": "code",
   "execution_count": null,
   "id": "20bfdea3-aca9-4f1a-9a03-2e3dfe3c5292",
   "metadata": {},
   "outputs": [],
   "source": []
  },
  {
   "cell_type": "markdown",
   "id": "4e7084e6-6345-4b4b-be3d-2d46fae205e8",
   "metadata": {},
   "source": [
    "## Importar archivo de python"
   ]
  },
  {
   "cell_type": "code",
   "execution_count": null,
   "id": "271a1eaf-2940-44f0-b191-aff84c19e2d6",
   "metadata": {},
   "outputs": [],
   "source": []
  },
  {
   "cell_type": "markdown",
   "id": "e9dbdd5c-b662-4210-afda-0f6f37b6d105",
   "metadata": {},
   "source": [
    "## Testing"
   ]
  },
  {
   "cell_type": "code",
   "execution_count": null,
   "id": "6f958009-0760-4e72-8fd3-a06a10e71e03",
   "metadata": {},
   "outputs": [],
   "source": []
  },
  {
   "cell_type": "markdown",
   "id": "1367ef8e-6f65-4c71-9b4a-ae8857fa3044",
   "metadata": {},
   "source": [
    "## Comandos mágicos"
   ]
  },
  {
   "cell_type": "markdown",
   "id": "eaf56623-fbaf-49aa-aa0f-d0a0facb6c72",
   "metadata": {},
   "source": [
    "# APLICAR CONCEPTOS"
   ]
  },
  {
   "cell_type": "markdown",
   "id": "b2c744ca-73d2-4703-a856-8b1de1f2453c",
   "metadata": {},
   "source": [
    "## Importat librerías"
   ]
  },
  {
   "cell_type": "code",
   "execution_count": 58,
   "id": "5da522b2-6bb7-4e44-9a21-3985281fe8ba",
   "metadata": {
    "tags": []
   },
   "outputs": [],
   "source": [
    "import matplotlib.pyplot as plt\n",
    "import seaborn as sns\n",
    "import pandas as pd\n",
    "import numpy as np\n",
    "#import dabu as db\n",
    "\n",
    "sns.set_theme()"
   ]
  },
  {
   "cell_type": "markdown",
   "id": "a99eab4a-67d7-4cb9-aaf3-1b12a46c591c",
   "metadata": {},
   "source": [
    "## Diccionario dos activos"
   ]
  },
  {
   "cell_type": "code",
   "execution_count": 59,
   "id": "aec17562-2a74-41b6-90a9-08dbc1cbd403",
   "metadata": {
    "tags": []
   },
   "outputs": [],
   "source": [
    "dict_precios_activos = {\n",
    "    'azul': {\n",
    "        0: 6.3, \n",
    "        1: 6.44881034482759, \n",
    "        2: 6.30818275862069, \n",
    "        3: 6.10781379310345, \n",
    "        4: 6.31839310344828, \n",
    "        5: 6.55714137931035, \n",
    "        6: 6.48204827586207, \n",
    "        7: 6.69385862068966, \n",
    "        8: 6.60964137931035, \n",
    "        9: 6.80515862068966, \n",
    "        10: 6.84701379310345, \n",
    "        11: 6.93028965517242, \n",
    "        12: 7.0768551724138 \n",
    "    },\n",
    "    'naranja': {\n",
    "        0: 7.71931034482759, \n",
    "        1: 8.02547586206897, \n",
    "        2: 7.75551724137931, \n",
    "        3: 8.39326551724138, \n",
    "        4: 8.76713793103449, \n",
    "        5: 8.53584827586207, \n",
    "        6: 8.11599310344828, \n",
    "        7: 9.0656275862069, \n",
    "        8: 9.67622068965518, \n",
    "        9: 10.4333793103448, \n",
    "        10: 8.67785172413794, \n",
    "        11: 8.88647586206897, \n",
    "        12: 8.39217931034483, \n",
    "    }\n",
    "}"
   ]
  },
  {
   "cell_type": "markdown",
   "id": "bbd6d859-ebad-41fe-9abb-85053d305e3e",
   "metadata": {},
   "source": [
    "## Crear DataFrame de precios"
   ]
  },
  {
   "cell_type": "code",
   "execution_count": null,
   "id": "3927edfa-e2f2-45b5-be07-0d1654c06aa2",
   "metadata": {},
   "outputs": [],
   "source": []
  },
  {
   "cell_type": "markdown",
   "id": "1a47ece6-a218-4967-9a7b-77152b2da6e0",
   "metadata": {},
   "source": [
    "## Gráficas"
   ]
  },
  {
   "cell_type": "markdown",
   "id": "99195a53-98b0-4c0e-bd89-2b1d6033b7f0",
   "metadata": {},
   "source": [
    "### Gráfica precios"
   ]
  },
  {
   "cell_type": "code",
   "execution_count": null,
   "id": "3355a982-e551-4f76-812f-459a878e1cf6",
   "metadata": {},
   "outputs": [],
   "source": []
  },
  {
   "cell_type": "markdown",
   "id": "85fcd790-741a-4be7-b2e2-37967c943596",
   "metadata": {
    "tags": []
   },
   "source": [
    "### Gráfica retornos"
   ]
  },
  {
   "cell_type": "code",
   "execution_count": null,
   "id": "989b12bf-80db-418b-893e-0c9bb7283c66",
   "metadata": {},
   "outputs": [],
   "source": []
  },
  {
   "cell_type": "markdown",
   "id": "a716b254-75af-45db-b805-ff54aa733bd9",
   "metadata": {},
   "source": [
    "## Crear DataFrame retornos compuestos"
   ]
  },
  {
   "cell_type": "code",
   "execution_count": null,
   "id": "40924788-d809-4aa0-89fb-a008e291fce9",
   "metadata": {},
   "outputs": [],
   "source": []
  },
  {
   "cell_type": "markdown",
   "id": "82be66b0-516e-4b6c-806e-e54691975e68",
   "metadata": {},
   "source": [
    "## Gráfica retornos 2da parte"
   ]
  },
  {
   "cell_type": "code",
   "execution_count": null,
   "id": "2a402939-a76b-43fd-b1a7-0f9635be1719",
   "metadata": {},
   "outputs": [],
   "source": []
  },
  {
   "cell_type": "markdown",
   "id": "632cf471-f1a4-4722-9273-d520bcddc106",
   "metadata": {},
   "source": [
    "## Analizar desempeño de los dos activos"
   ]
  },
  {
   "cell_type": "markdown",
   "id": "45981e14-79e0-4ed1-920d-78e982fc4265",
   "metadata": {},
   "source": [
    "### Inversión inicial"
   ]
  },
  {
   "cell_type": "code",
   "execution_count": null,
   "id": "6984a869-b34b-41ed-b6d8-285fe94283bb",
   "metadata": {},
   "outputs": [],
   "source": []
  },
  {
   "cell_type": "markdown",
   "id": "98caf657-88a1-4ea2-8129-dcb95a43d6b0",
   "metadata": {},
   "source": [
    "### Calcular el número de posiciones por cada activo"
   ]
  },
  {
   "cell_type": "code",
   "execution_count": null,
   "id": "bdbfa5b3-3fbf-4c36-916e-2d9fea2c6a40",
   "metadata": {},
   "outputs": [],
   "source": []
  },
  {
   "cell_type": "markdown",
   "id": "0477b102-f59f-49f4-bd87-465db80ec108",
   "metadata": {},
   "source": [
    "### Calcular el valor de las posiciones cada mes"
   ]
  },
  {
   "cell_type": "code",
   "execution_count": null,
   "id": "cc0b1563-8316-43ba-9f85-7f3d08dbff04",
   "metadata": {},
   "outputs": [],
   "source": []
  },
  {
   "cell_type": "markdown",
   "id": "a068e826-9f55-4964-b797-bb8ba1b4fa6e",
   "metadata": {},
   "source": [
    "### Graficar desempeño"
   ]
  },
  {
   "cell_type": "code",
   "execution_count": null,
   "id": "d0402c99-3e87-450e-a331-567c35b9d06b",
   "metadata": {},
   "outputs": [],
   "source": []
  },
  {
   "cell_type": "markdown",
   "id": "aa459135-943e-46b6-aa42-5ac27210ee6c",
   "metadata": {},
   "source": [
    "# EVALUACION DE RIESGO Y BENEFICIO"
   ]
  },
  {
   "cell_type": "markdown",
   "id": "9cd01ed1-f843-4d76-baac-38077229d03f",
   "metadata": {
    "tags": []
   },
   "source": [
    "![Retornos](imagenes/retornos_mensuales.png)"
   ]
  },
  {
   "cell_type": "markdown",
   "id": "1fb1348d-417a-4e9a-8bda-fb760e9f33a8",
   "metadata": {
    "tags": []
   },
   "source": [
    "### COMENTARIOS DE LA GRAFICA"
   ]
  },
  {
   "cell_type": "markdown",
   "id": "bfd50120-8bf9-4328-bd57-d6a64cd55851",
   "metadata": {},
   "source": [
    "1. Ambas series tienen la misma media.\n",
    "1. La serie azul es claramente menos volátil que la serie naranja.\n",
    "1. La serie volatil (naranja) se aleja de la media con mayor frecuencia y de manera más significativa que la serie azul.\n",
    "1. La volatilidad se refiere a las desviaciones más frecuentes y significativas de la media.\n",
    "1. La media de ambas series es idéntica.\n",
    "1. La única diferencia entre las series es la frecuencia con la que la serie naranja se aleja de la media."
   ]
  },
  {
   "cell_type": "markdown",
   "id": "b9231d9a-ab44-4b43-9c39-ceab9615a918",
   "metadata": {},
   "source": [
    "# VOLATILIDAD - VARIANZA Y DESVIACION ESTANDARD"
   ]
  },
  {
   "cell_type": "markdown",
   "id": "c775e108-9b1c-4b03-9907-6ad23db5a88b",
   "metadata": {},
   "source": [
    "## Varianza"
   ]
  },
  {
   "cell_type": "markdown",
   "id": "ae81bd26-6ea9-4963-a299-508bdcb1ef1b",
   "metadata": {},
   "source": [
    "> \"_La varianza es una medida estadística cuantitativa que representa la dispersión o variabilidad de los valores en un conjunto de datos._\""
   ]
  },
  {
   "cell_type": "markdown",
   "id": "b9956251-ca85-43c7-a785-b394addc9a7c",
   "metadata": {},
   "source": [
    "$$\\sigma_{R}^{2} =  \\frac{1}{N}*\\sum_{i=1}^{N}{(R - \\bar{R})^2}$$\n",
    "Donde $\\bar{R}$ es el promedio aritmérico de los retornos"
   ]
  },
  {
   "cell_type": "markdown",
   "id": "2b65b934-6063-429e-9ea6-7d36238b3da1",
   "metadata": {},
   "source": [
    "En otras palabras, la varianza es _\"el promedio del cuadrado de las desviaciones de la media\"_.\n",
    "Pasos:\n",
    "1. Descontar la media a cada retorno de la serie\n",
    "1. Elevar al cuadrado el retorno descontado\n",
    "1. Promediar todos los retornos descontados elevados al cuadrado"
   ]
  },
  {
   "cell_type": "markdown",
   "id": "fbd82d5a-a040-4eac-9de1-7d683222a542",
   "metadata": {},
   "source": [
    "## Desviación Estándar"
   ]
  },
  {
   "cell_type": "markdown",
   "id": "74855a06-a96f-4a27-8e76-990850e18a24",
   "metadata": {
    "tags": []
   },
   "source": [
    "Para medir la volatilidad eliminamos los valores elevados al cuadrado que representa la varianza, calculando la desviación estándar."
   ]
  },
  {
   "cell_type": "markdown",
   "id": "fc948755-1b92-4fa0-a397-cf2c208ac1f3",
   "metadata": {},
   "source": [
    "$$\\sigma_{R} =  \\sqrt{\\sigma_{R}^2}=\\sqrt{\\frac{1}{N}*\\sum_{i=1}^{N}{(R - \\bar{R})^2}}$$"
   ]
  },
  {
   "cell_type": "markdown",
   "id": "24cf4659-d0c9-40e3-a023-1dd089e6d210",
   "metadata": {},
   "source": [
    "## Anualizar volatilidad"
   ]
  },
  {
   "cell_type": "markdown",
   "id": "d7ee5e4d-d6c3-47a2-8a7c-1de6335151e7",
   "metadata": {},
   "source": [
    "Ejemplo:  Volatilidad diaria Vs mensual"
   ]
  },
  {
   "cell_type": "code",
   "execution_count": null,
   "id": "40b21a71-ea67-49b7-99fd-1a43816cbaa3",
   "metadata": {},
   "outputs": [],
   "source": []
  },
  {
   "cell_type": "markdown",
   "id": "cb056c85-f833-45fc-b302-b9c01dcfcda7",
   "metadata": {},
   "source": [
    "#### Pasos para anualizar volatilidad"
   ]
  },
  {
   "cell_type": "markdown",
   "id": "ec5c3171-0c81-43ca-a4fd-e01aff7909b9",
   "metadata": {},
   "source": [
    "1. Identificar el número de periodos en un año calendario\n",
    "    1. _**NOTA:  Para el caso de retornos diarios, se considera que el año calendario es de 252 días**_\n",
    "1. Multiplicar la raiz cuadrada del número de periodos por su volatilidad correspondiente"
   ]
  },
  {
   "cell_type": "markdown",
   "id": "94cd5cc4-9f80-4c9e-808e-d8e603724a51",
   "metadata": {},
   "source": [
    "$$\\large\\sigma_{anualizada}=\\sigma_{p}*\\sqrt{p}$$"
   ]
  },
  {
   "cell_type": "markdown",
   "id": "2ef18ef5-da9e-4424-bf10-ecd552cf36e9",
   "metadata": {},
   "source": [
    "# AJUSTAR EL RIESGO"
   ]
  },
  {
   "cell_type": "markdown",
   "id": "90d4f90f-ba61-4c62-a979-8e6fbcab4fce",
   "metadata": {},
   "source": [
    "Supongamos que los siguientes datos son reales:\n",
    "\n",
    "|Activo|Retorno|Volatilidad|\n",
    "|:-:|:-:|:-:|\n",
    "|A|20%|42%|\n",
    "|B|10%|16%|"
   ]
  },
  {
   "cell_type": "code",
   "execution_count": null,
   "id": "17055d4a-e896-49bc-8f3f-4e97553abd4b",
   "metadata": {},
   "outputs": [],
   "source": []
  },
  {
   "cell_type": "markdown",
   "id": "88b210fb-f636-4864-9bd0-179223cd82df",
   "metadata": {},
   "source": [
    "### Exceso retorno del mercado"
   ]
  },
  {
   "cell_type": "code",
   "execution_count": null,
   "id": "57ce8dc5-cd00-4872-86b4-2cd0fd178756",
   "metadata": {},
   "outputs": [],
   "source": []
  },
  {
   "cell_type": "markdown",
   "id": "27549821-7145-446a-b736-6a5ec07a3dc4",
   "metadata": {},
   "source": [
    "## Sharp Ratio"
   ]
  },
  {
   "cell_type": "markdown",
   "id": "79f203a6-bf6a-4a88-88eb-c03d66208ec3",
   "metadata": {},
   "source": [
    "$$SharpRatio(P)=\\frac{R_p - R_f}{\\sigma_p}$$"
   ]
  },
  {
   "cell_type": "markdown",
   "id": "3adb5735-001e-4d57-86e4-1e99f0729bd4",
   "metadata": {},
   "source": [
    "## Comentario extra sobre la desviación estándar"
   ]
  },
  {
   "cell_type": "code",
   "execution_count": null,
   "id": "df6c3c80-fd31-4668-ac77-c430ea2d772c",
   "metadata": {},
   "outputs": [],
   "source": []
  },
  {
   "cell_type": "markdown",
   "id": "03159e24-8b63-4b2e-bd12-291ee6ed64d2",
   "metadata": {},
   "source": [
    "### Cálculo manual sigma"
   ]
  },
  {
   "cell_type": "code",
   "execution_count": null,
   "id": "9afafe6f-5991-40fb-884e-3aec96f37f28",
   "metadata": {},
   "outputs": [],
   "source": []
  },
  {
   "cell_type": "markdown",
   "id": "24c6d9c5-3797-41db-8f4c-cf0652a05788",
   "metadata": {},
   "source": [
    "### Compara la sigma obtenida con el método .std de Pandas Vs el cálculo manual"
   ]
  },
  {
   "cell_type": "code",
   "execution_count": null,
   "id": "8ff21b10-021e-4d1e-83de-b7baf99585c9",
   "metadata": {},
   "outputs": [],
   "source": []
  },
  {
   "cell_type": "markdown",
   "id": "4687069f-33c0-4acc-b934-c3160d00cacc",
   "metadata": {},
   "source": [
    "### Ajustar nuestro cálculo a la sigma de la muestra y no de la población"
   ]
  },
  {
   "cell_type": "code",
   "execution_count": null,
   "id": "cc42b6fd-2b9e-4a34-9483-3a073aa17d33",
   "metadata": {},
   "outputs": [],
   "source": []
  },
  {
   "cell_type": "markdown",
   "id": "c95a9bea-85da-4da2-b410-7e4a33efb197",
   "metadata": {},
   "source": [
    "## Anualizar sigma"
   ]
  },
  {
   "cell_type": "code",
   "execution_count": 106,
   "id": "1f4ac8bd-a031-4c3b-9158-6f2ec4663e0c",
   "metadata": {
    "tags": []
   },
   "outputs": [
    {
     "data": {
      "text/plain": [
       "azul       0.083060\n",
       "naranja    0.275747\n",
       "dtype: float64"
      ]
     },
     "execution_count": 106,
     "metadata": {},
     "output_type": "execute_result"
    }
   ],
   "source": [
    "df_retornos.std() * np.sqrt(12)"
   ]
  },
  {
   "cell_type": "markdown",
   "id": "3589703a-1085-41a6-b2db-f627fbb754bd",
   "metadata": {},
   "source": [
    "# LARGE CAP VS LOW CAP"
   ]
  },
  {
   "cell_type": "markdown",
   "id": "2212ee20-7424-4e0f-b50d-5c8bccc260ea",
   "metadata": {},
   "source": [
    "De la página del Dr. Kennet French, vamos a descargar un archivo que contiene los retornos diarios de diferentes portafolios construidos en función al tamaño de las empresas de la pág:\n",
    "https://mba.tuck.dartmouth.edu/pages/faculty/ken.french/index.html"
   ]
  },
  {
   "cell_type": "code",
   "execution_count": 107,
   "id": "9d08e1d0-2e7a-4861-b230-23e95c439928",
   "metadata": {
    "tags": []
   },
   "outputs": [],
   "source": [
    "url = 'https://mba.tuck.dartmouth.edu/pages/faculty/ken.french/ftp/Portfolios_Formed_on_ME_CSV.zip'"
   ]
  },
  {
   "cell_type": "markdown",
   "id": "40e9b14f-f640-4901-9b54-54ebd52f82e7",
   "metadata": {},
   "source": [
    "Sobre los datos obtenidos:\n",
    "https://mba.tuck.dartmouth.edu/pages/faculty/ken.french/Data_Library/det_port_form_sz.html"
   ]
  },
  {
   "cell_type": "code",
   "execution_count": null,
   "id": "7484359d-7085-436c-8f22-7393378ba61c",
   "metadata": {},
   "outputs": [],
   "source": []
  }
 ],
 "metadata": {
  "kernelspec": {
   "display_name": "Python 3 (ipykernel)",
   "language": "python",
   "name": "python3"
  },
  "language_info": {
   "codemirror_mode": {
    "name": "ipython",
    "version": 3
   },
   "file_extension": ".py",
   "mimetype": "text/x-python",
   "name": "python",
   "nbconvert_exporter": "python",
   "pygments_lexer": "ipython3",
   "version": "3.11.3"
  }
 },
 "nbformat": 4,
 "nbformat_minor": 5
}
