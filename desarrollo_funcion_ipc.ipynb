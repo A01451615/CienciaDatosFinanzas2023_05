{
 "cells": [
  {
   "cell_type": "markdown",
   "id": "820718de-99d1-46a7-8c1f-186c261d0e4a",
   "metadata": {},
   "source": [
    "# <font color='#2B17B0'>CIENCIA DE DATOS APLICADA A FINANZAS</font>\n",
    "Carlos Crespo Elizondo<br>\n",
    "EGADE BUSINESS SCHOOL"
   ]
  },
  {
   "cell_type": "markdown",
   "id": "8b26e814-a6c2-441c-b328-441b2c7f1b84",
   "metadata": {},
   "source": [
    "# <font color='#2B17B0'>Desarrollo para accesar automáticamente a los tickers que conforman el S\\&P BMV IPC</font>"
   ]
  },
  {
   "cell_type": "markdown",
   "id": "8bbe2a86-442e-4d6c-a47c-8392145f9492",
   "metadata": {},
   "source": [
    "En la sesión 7, introdujimos el concepto del Índice de Precios y Cotizaciones (IPC) y los criterios para seleccionar sus componentes. Además, discutimos cómo Yahoo! Finance identifica estas empresas mediante tickers."
   ]
  },
  {
   "cell_type": "markdown",
   "id": "0a6f40fe-d4b0-466a-9104-4e2adf52069d",
   "metadata": {},
   "source": [
    "## Listado de componentes actuales del IPC"
   ]
  },
  {
   "cell_type": "markdown",
   "id": "86f6a677-7b78-4006-ac92-9e0b4738c384",
   "metadata": {},
   "source": [
    "|Emisora|Ticker|Ticker Y!F|\n",
    "|:-|:-|:-|\n",
    "|\"Indice de Precios y Cotizaciones\"|IPC|^MXX|\n",
    "|Alfa A|ALFAA|ALFAA.MX|\n",
    "|Alsea A|ALSEA|ALSEA.MX|\n",
    "|America Movil  B|AMXB|AMXB.MX| \n",
    "|Arca Continental|AC|AC.MX| \n",
    "|Banco del Bajio|BBAJIOO|BBAJIOO.MX| \n",
    "|Becle |CUERVO|CUERVO.MX| \n",
    "|Bolsa Mexicana de Valores |BOLSAA|BOLSAA.MX| \n",
    "|Cemex CPO|CEMEXCPO|CEMEXCPO.MX| \n",
    "|Coca-Cola Femsa  UBL|KOFUBL|KOFUBL.MX| \n",
    "|Controladora Vuela Compania de Aviacion |VOLARA|VOLARA.MX| \n",
    "|Corporacion Inmobiliaria VestaB. |VESTA|VESTA.MX| \n",
    "|El Puerto de Liverpool |LIVEPOLC-1|LIVEPOLC-1.MX| \n",
    "|Fomento Economico Mexicano |FEMSAUBD|FEMSAUBD.MX| \n",
    "|Genomma Lab Internacional |LABB|LABB.MX| \n",
    "|Gentera |GENTERA|GENTERA.MX| \n",
    "|Gruma SAB B|GRUMAB|GRUMAB.MX| \n",
    "|Grupo Aeroportuario del Centro NorteB. |OMAB|OMAB.MX| \n",
    "|Grupo Aeroportuario del PacificoB. |GAPB|GAPB.MX| \n",
    "|Grupo Aeroportuario del Sureste  B|ASURB|ASURB.MX| \n",
    "|Grupo Bimbo S.A.B.|BIMBOA|BIMBOA.MX| \n",
    "|Grupo Carso |GCARSOA1|GCARSOA1.MX| \n",
    "|Grupo Cementos de Chihuahua |GCC|GCC.MX| \n",
    "|Grupo Elektra |ELEKTRA|ELEKTRA.MX| \n",
    "|Grupo Financiero Banorte O|GFNORTEO|GFNORTEO.MX| \n",
    "|Grupo Financiero Inbursa O|GFINBURO|GFINBURO.MX| \n",
    "|Grupo Mexico  B|GMEXICOB|GMEXICOB.MX| \n",
    "|Grupo Televisa  CPO|TLEVISACPO|TLEVISACPO.MX| \n",
    "|Industrias Penoles|PE&OLES|PE&OLES.MX| \n",
    "|Kimberly Clark de Mexico  A|KIMBERA|KIMBERA.MX| \n",
    "|Megacable Holdings |MEGACPO|MEGACPO.MX| \n",
    "|ORBIA ADVANCE CORPORATION |ORBIA|ORBIA.MX| \n",
    "|Promotora y Operadora de Infraestructura |PINFRA|PINFRA.MX| \n",
    "|Qualitas Controladora|Q|Q.MX| \n",
    "|Regional |RA|RA.MX| \n",
    "|Walmart de Mexico |WALMEX|WALMEX.MX|"
   ]
  },
  {
   "cell_type": "markdown",
   "id": "005415cc-50c4-4c87-a6bb-3c345140dfff",
   "metadata": {},
   "source": [
    "## Obtener los tickers de los componentes del IPC"
   ]
  },
  {
   "cell_type": "markdown",
   "id": "1d270302-dc3e-4784-91fd-88ae85e5bf80",
   "metadata": {},
   "source": [
    "Para leer los datos de la tabla de tickers, se pueden utilizar expresiones regulares (re)."
   ]
  },
  {
   "cell_type": "markdown",
   "id": "d15798ea-0388-415b-ae2d-32a9ca6a9309",
   "metadata": {},
   "source": [
    "### \"Parsear\" tabla componentes IPC"
   ]
  },
  {
   "cell_type": "code",
   "execution_count": null,
   "id": "2caba2e9-c10c-46d4-a8fb-d65bae38e373",
   "metadata": {
    "tags": []
   },
   "outputs": [],
   "source": [
    "tabla = \"\"\"\n",
    "|\"Indice de Precios y Cotizaciones\"|IPC|^MXX|\n",
    "|Alfa A|ALFAA|ALFAA.MX|\n",
    "|Alsea A|ALSEA|ALSEA.MX|\n",
    "|America Movil  B|AMXB|AMXB.MX| \n",
    "|Arca Continental|AC|AC.MX| \n",
    "|Banco del Bajio|BBAJIOO|BBAJIOO.MX| \n",
    "|Becle |CUERVO|CUERVO.MX| \n",
    "|Bolsa Mexicana de Valores |BOLSAA|BOLSAA.MX| \n",
    "|Cemex CPO|CEMEXCPO|CEMEXCPO.MX| \n",
    "|Coca-Cola Femsa  UBL|KOFUBL|KOFUBL.MX| \n",
    "|Controladora Vuela Compania de Aviacion |VOLARA|VOLARA.MX| \n",
    "|Corporacion Inmobiliaria VestaB. |VESTA|VESTA.MX| \n",
    "|El Puerto de Liverpool |LIVEPOLC-1|LIVEPOLC-1.MX| \n",
    "|Fomento Economico Mexicano |FEMSAUBD|FEMSAUBD.MX| \n",
    "|Genomma Lab Internacional |LABB|LABB.MX| \n",
    "|Gentera |GENTERA|GENTERA.MX| \n",
    "|Gruma SAB B|GRUMAB|GRUMAB.MX| \n",
    "|Grupo Aeroportuario del Centro NorteB. |OMAB|OMAB.MX| \n",
    "|Grupo Aeroportuario del PacificoB. |GAPB|GAPB.MX| \n",
    "|Grupo Aeroportuario del Sureste  B|ASURB|ASURB.MX| \n",
    "|Grupo Bimbo S.A.B.|BIMBOA|BIMBOA.MX| \n",
    "|Grupo Carso |GCARSOA1|GCARSOA1.MX| \n",
    "|Grupo Cementos de Chihuahua |GCC|GCC.MX| \n",
    "|Grupo Elektra |ELEKTRA|ELEKTRA.MX| \n",
    "|Grupo Financiero Banorte O|GFNORTEO|GFNORTEO.MX| \n",
    "|Grupo Financiero Inbursa O|GFINBURO|GFINBURO.MX| \n",
    "|Grupo Mexico  B|GMEXICOB|GMEXICOB.MX| \n",
    "|Grupo Televisa  CPO|TLEVISACPO|TLEVISACPO.MX| \n",
    "|Industrias Penoles|PE&OLES|PE&OLES.MX| \n",
    "|Kimberly Clark de Mexico  A|KIMBERA|KIMBERA.MX| \n",
    "|Megacable Holdings |MEGACPO|MEGACPO.MX| \n",
    "|ORBIA ADVANCE CORPORATION |ORBIA|ORBIA.MX| \n",
    "|Promotora y Operadora de Infraestructura |PINFRA|PINFRA.MX| \n",
    "|Qualitas Controladora|Q|Q.MX| \n",
    "|Regional |RA|RA.MX| \n",
    "|Walmart de Mexico |WALMEX|WALMEX.MX|\n",
    "\"\"\""
   ]
  },
  {
   "cell_type": "markdown",
   "id": "26242d8c-65b6-42e1-9210-fcaab08b3c9c",
   "metadata": {},
   "source": [
    "Todos los tickers en la columna Ticker Y!F finalizan con el sufijo `.MX`, excepto el IPC, que se identifica como `^MXX`. Al emplear la librería `re` de Python, se pueden buscar todas las palabras que terminan con el sufijo `.MX` y/o la palabra `^MXX`."
   ]
  },
  {
   "cell_type": "code",
   "execution_count": null,
   "id": "b793bdf9-2d32-4db0-b8db-742e7046a519",
   "metadata": {
    "tags": []
   },
   "outputs": [],
   "source": [
    "import re\n",
    "tickers = re.findall(r'\\b\\w+\\.MX|\\^MXX', tabla)"
   ]
  },
  {
   "cell_type": "markdown",
   "id": "6a8e4875-42c6-476a-911d-2557ad9fd35f",
   "metadata": {},
   "source": [
    "En la primera línea del código, importamos la librería `re` de Python para trabajar con expresiones regulares. La segunda línea busca todas las coincidencias en los datos que se ajustan a nuestra expresión regular definida.\n",
    "\n",
    "La expresión regular`\\b\\w+.MX`, tiene el propósito de localizar secuencias de caracteres alfanuméricos (\\w+) que finalizan con `.MX`. `\\b` garantiza que estamos buscando palabras completas y no fragmentos de palabras más grandes.\n",
    "\n",
    "Es importante notar que los puntos en la expresión regular deben precederse con barras invertidas. Esto se debe a que el punto es un carácter especial en las expresiones regulares y debe \"escaparse\" con una barra invertida para ser interpretado literalmente.\n",
    "\n",
    "Por otro lado, la parte `|\\^MXX` en la expresión regular utiliza el símbolo `|`, que significa `OR` en este contexto. Esto nos permite buscar exactamente la secuencia `^MXX`."
   ]
  },
  {
   "cell_type": "code",
   "execution_count": null,
   "id": "06f6b6d4-5a0b-4758-91a9-a086b03ff3d1",
   "metadata": {
    "tags": []
   },
   "outputs": [],
   "source": [
    "tickers"
   ]
  },
  {
   "cell_type": "markdown",
   "id": "cbe636b1-dd8e-4722-b98a-65569ac23423",
   "metadata": {},
   "source": [
    "Sin embargo, la expresión regular presenta problemas con los tickers de Liverpool y Peñoles, ya que rompe las palabras en partes incorrectas. Para solucionar esto, se debe modificar la expresión regular para considerar '-' y '&' como parte de las palabras de la siguiente manera:"
   ]
  },
  {
   "cell_type": "code",
   "execution_count": null,
   "id": "fda01ad5-c499-443e-a7dd-b34fbefd25b1",
   "metadata": {
    "tags": []
   },
   "outputs": [],
   "source": [
    "tickers = re.findall(r'\\b[\\w\\-&]+\\.MX|\\^MXX', tabla)"
   ]
  },
  {
   "cell_type": "markdown",
   "id": "6200d013-02f5-4b6a-9faf-e8bd93d0561a",
   "metadata": {
    "tags": []
   },
   "source": [
    "En `[\\w\\-&]`, los corchetes los usamos para definir un conjunto de caracteres. El patrón coincidirá con cualquier carácter que esté dentro de los corchetes.Dentro de los corchetes, ya sabemos que `\\w` coincide con cualquier carácter de palabra.  `\\-` Este es un guión literal. Necesitamos escaparlo con una barra invertida porque dentro de los corchetes, un guión normalmente se usa para especificar un rango de caracteres (como en a-z). Al escaparlo con la barra invertida, estamos diciendo que queremos que coincida con el guión literalmente.  Por último `&` coincidirá con el carácter '&' literalmente."
   ]
  },
  {
   "cell_type": "code",
   "execution_count": null,
   "id": "c231bf56-1843-4792-b150-78e0f67a8184",
   "metadata": {
    "tags": []
   },
   "outputs": [],
   "source": [
    "tickers"
   ]
  },
  {
   "cell_type": "markdown",
   "id": "645c0711-8219-49ab-963c-52850164580d",
   "metadata": {},
   "source": [
    "El desafío es que esta tabla se vuelve obsoleta con el tiempo y no se actualiza automáticamente. Sin embargo, se puede acceder a la lista actual de los componentes del IPC en la página de S&P."
   ]
  },
  {
   "cell_type": "markdown",
   "id": "82926ecb-d217-40e2-ad61-6e2177c8ae2a",
   "metadata": {},
   "source": [
    "### \"Parsear\" el IPC directamente S&P Dow Jones Indices"
   ]
  },
  {
   "cell_type": "markdown",
   "id": "5feaa2a1-f002-48a1-a822-6a6cf2b79fc6",
   "metadata": {},
   "source": [
    "Si entramos a la página del IPC en S&P (https://www.spglobal.com/spdji/en/indices/equity/sp-bmv-ipc/#overview),  seleccionamos \"Data\" y navegamos a la parte inferior de la página, nos toparemos con el link \"FULL CONSTITUENTS LIST\".  Si hacemos click en el link, se bajará a nuestra computadora un archivo de excel con terminación `.xls`<br><br>\n",
    "Al abrir el archivo de excel nos podemos dar cuenta de varias cosas:"
   ]
  },
  {
   "cell_type": "markdown",
   "id": "5f6907fe-05f3-44ed-9a9c-197f42956dc9",
   "metadata": {},
   "source": [
    "![ExcelIPC](imagenes/ipc_sp.png)"
   ]
  },
  {
   "cell_type": "markdown",
   "id": "0b214761-2c90-4d17-80bf-276c629a7f61",
   "metadata": {},
   "source": [
    "* La tabla comienza en la línea 10; por lo tanto, las líneas 1-9 se deben ignorar.\n",
    "* Algunos tickers tienen un espacio en blanco entre el nombre del ticker y la serie, el cual debe ser eliminado.\n",
    "* Algunos tickers contienen el símbolo \"*\" que también debe ser eliminado."
   ]
  },
  {
   "cell_type": "markdown",
   "id": "d400bcbe-1ffb-4a53-b2df-0df70bb7a817",
   "metadata": {},
   "source": [
    "Podemos leer directamente el archivo de excel de varias maneras.  Creo que definitivamente la más fácil es utilizando la librería pandas.\n",
    "\n",
    "El link para descargar archivo de excel:<br>\n",
    "https://www.spglobal.com/spdji/en/idsexport/file.xls?hostIdentifier=48190c8c-42c4-46af-8d1a-0cd5db894797&selectedModule=Constituents&selectedSubModule=ConstituentsFullList&indexId=92330739&language_id=1&languageId=1<br>\n",
    "Si cambias `en` a `es` y `language_id=1&languageId=1` a `language_id=2&languageId=2`, cambiarás el idioma a español!"
   ]
  },
  {
   "cell_type": "code",
   "execution_count": null,
   "id": "6c22725a-0e3e-429e-826c-9201f5923e1f",
   "metadata": {
    "tags": []
   },
   "outputs": [],
   "source": [
    "import pandas as pd"
   ]
  },
  {
   "cell_type": "code",
   "execution_count": null,
   "id": "58d119e1-ed53-4de6-9e80-645d0188587f",
   "metadata": {
    "tags": []
   },
   "outputs": [],
   "source": [
    "url = 'https://www.spglobal.com/spdji/es/idsexport/file.xls?hostIdentifier=48190c8c-42c4-46af-8d1a-0cd5db894797&selectedModule=Constituents&selectedSubModule=ConstituentsFullList&indexId=92330739&language_id=2&languageId=2'\n"
   ]
  },
  {
   "cell_type": "code",
   "execution_count": null,
   "id": "f51991a0-b20e-4ca3-8022-a6e92a1fdb00",
   "metadata": {
    "tags": []
   },
   "outputs": [],
   "source": [
    "df = pd.read_excel(url, engine='xlrd')"
   ]
  },
  {
   "cell_type": "markdown",
   "id": "3e2d940c-279b-4f8a-999a-852bd6e919e1",
   "metadata": {},
   "source": [
    "> _Tip:  Para leer en pandas, archivos de excel con terminación `xls` utilizar el motor `xlrd`.  Para archivos `xlsx` puedes utilizar el motor `openpyxl`_\n",
    "> <br>\n",
    "> <br>\n",
    "> *Nota: Al intentar ejecutar el código anterior en la red del EGADE, puede surgir un error \"HTTPError: HTTP Error 403: Forbidden\" que impide el acceso al archivo de Excel. Sin embargo, este error no aparece al ejecutar el mismo código fuera de la red del EGADE.*"
   ]
  },
  {
   "cell_type": "code",
   "execution_count": null,
   "id": "5c3ef538-74f1-4ef7-a9bb-7e1477641b12",
   "metadata": {
    "tags": []
   },
   "outputs": [],
   "source": [
    "df"
   ]
  },
  {
   "cell_type": "markdown",
   "id": "8d79a138-69c4-4a5c-9136-91c3d955bf2e",
   "metadata": {},
   "source": [
    "Como ya sabiamos, las primeras líneas no las necesitamos.  Al igual que los últimos 4 renglones.\n",
    "Para eliminar los renglones superiores vamos a volver a importar el archivo especificando que ingnore los primeros 9 renglones:"
   ]
  },
  {
   "cell_type": "code",
   "execution_count": null,
   "id": "09b5f0ce-1978-4779-807e-873c1504b596",
   "metadata": {
    "tags": []
   },
   "outputs": [],
   "source": [
    "df = pd.read_excel(url, skiprows=9, engine='xlrd')"
   ]
  },
  {
   "cell_type": "code",
   "execution_count": null,
   "id": "17b74f02-0aae-45ed-a9ed-b4fa5907fa82",
   "metadata": {
    "tags": []
   },
   "outputs": [],
   "source": [
    "df"
   ]
  },
  {
   "cell_type": "markdown",
   "id": "787379af-4a94-4407-bd91-39d50c96c08e",
   "metadata": {},
   "source": [
    "En la siguiente celda vamos a realizar lo siguiente:\n",
    "1. Eliminar los últimos 4 renglones borrando los `NaN`s\n",
    "1. Eliminar todos los \"*\" y reemplazarlos con nada\n",
    "1. Eliminar todos los espacios y reemplzarlos con nada"
   ]
  },
  {
   "cell_type": "code",
   "execution_count": null,
   "id": "f9737655-8383-4ba6-aeee-779aaf2673a0",
   "metadata": {
    "tags": []
   },
   "outputs": [],
   "source": [
    "df.dropna(inplace=True)\n",
    "df['TICKER'] = df['TICKER'].str.replace('*', '')\n",
    "df['TICKER'] = df['TICKER'].str.replace(' ', '')\n",
    "df"
   ]
  },
  {
   "cell_type": "markdown",
   "id": "3e7facfb-bcd7-4070-856a-15b4be108ec5",
   "metadata": {},
   "source": [
    "Para poder utilizar los tickers con Yahoo! Finance, vamos a agregar el sufijo `.MX` a todos los ticker de la columna `TICKER`"
   ]
  },
  {
   "cell_type": "code",
   "execution_count": null,
   "id": "ab8d3fed-344d-44f0-bd15-afad9696f570",
   "metadata": {
    "tags": []
   },
   "outputs": [],
   "source": [
    "df['TICKER'] = df['TICKER'] + '.MX'\n",
    "df"
   ]
  },
  {
   "cell_type": "markdown",
   "id": "6cd4f22d-5b45-4143-9ae1-b9b68cd62004",
   "metadata": {},
   "source": [
    "Por último vamos a convertir la columna `TICKER` en una lista y agregar manualmente el código de Yahoo! Finance del IPC como el primer elemento de la lista:"
   ]
  },
  {
   "cell_type": "code",
   "execution_count": null,
   "id": "d08da6cc-6676-4c29-b1f3-0c0f7e476e35",
   "metadata": {
    "tags": []
   },
   "outputs": [],
   "source": [
    "lista = df['TICKER'].to_list()\n",
    "lista.insert(0, '^MXX')\n",
    "lista"
   ]
  },
  {
   "cell_type": "markdown",
   "id": "49b21310-a668-4520-813e-d615a6962036",
   "metadata": {},
   "source": [
    "## Crear función ipc"
   ]
  },
  {
   "cell_type": "markdown",
   "id": "58459322-e4cf-4790-8199-6b95e354ae24",
   "metadata": {},
   "source": [
    "A continuación voy a crear la función `ipc`.  Voy a incluir la opción de preguntar si se requiere o no el formato de los tickers de Yahoo! Finace con el parámetro `formato_yf` que por defalut es verdadero.  También voy a incluir la documentación de la función con \"docstring\""
   ]
  },
  {
   "cell_type": "markdown",
   "id": "d508adb7-3c8d-41fc-9a86-3a26bdc8a73f",
   "metadata": {},
   "source": [
    "Para automatizar este proceso, se puede crear una función en Python llamada ipc. Esta función incluirá la opción de formatear los tickers para Yahoo! Finance con el parámetro `formato_yf`, que será `True` por default. En esta función, se verificará que formato_yf sea de tipo booleano. Si el valor es `True`, se agregarán los sufijos adecuados y se creará la lista. Si es `False`, solo se creará la lista de tickers."
   ]
  },
  {
   "cell_type": "code",
   "execution_count": null,
   "id": "6efffdfb-4ece-4a5b-9121-37827feeb61c",
   "metadata": {
    "tags": []
   },
   "outputs": [],
   "source": [
    "def ipc(formato_yf = True):\n",
    "    \"\"\"\n",
    "    Regresa una lista con todos los componentes\n",
    "    del IPC de la BMV.  Los datos se obtienen \n",
    "    directamente de la página de S&P\n",
    "    \n",
    "    PARAMETROS\n",
    "    ----------\n",
    "    formato_yf:  Boolean True o False.  Default es True.\n",
    "                 Formatea los tickers bajo los parámetros\n",
    "                 de Yahoo! Finance e incluye el tikcer el \n",
    "                 IPC en Y!F.  En caso de no requerir el formato\n",
    "                 de Y!F, seleccionar False\n",
    "    \"\"\"\n",
    "    \n",
    "    if type(formato_yf) is not bool:\n",
    "        raise ValueError('El parámetro debe de ser de tipo booleano (True o False).  Default: True')\n",
    "    url = 'https://www.spglobal.com/spdji/es/idsexport/file.xls?hostIdentifier=48190c8c-42c4-46af-8d1a-0cd5db894797&selectedModule=Constituents&selectedSubModule=ConstituentsFullList&indexId=92330739&language_id=2&languageId=2'\n",
    "    df = pd.read_excel(url, skiprows=9, engine='xlrd')\n",
    "    df.dropna(inplace=True)\n",
    "    df['TICKER'] = df['TICKER'].str.replace('*', '')\n",
    "    df['TICKER'] = df['TICKER'].str.replace(' ', '')\n",
    "    \n",
    "    if formato_yf == True:\n",
    "        df['TICKER'] = df['TICKER'] + '.MX'\n",
    "        lista = df['TICKER'].to_list()\n",
    "        lista.insert(0, '^MXX')\n",
    "    else:\n",
    "        lista = df['TICKER'].to_list()\n",
    "        \n",
    "    return lista"
   ]
  },
  {
   "cell_type": "markdown",
   "id": "682e2ca7-87f7-4eb2-a524-6deee31e82ac",
   "metadata": {},
   "source": [
    "En la función ipc:\n",
    "\n",
    "* La línea 16 comprueba si formato_yf es de tipo booleano. Si no lo es, la línea 17 genera un error especificando que este parámetro debe ser booleano.\n",
    "* Si formato_yf es `True` en  la línea 24:\n",
    "    * Las líneas 25, 26 y 27 agregan el sufijo \".MX\" a los tickers, crea la lista correspondiente e incluye el formato de Yahoo! Finance del IPC.\n",
    "* En caso de que `formato_yf` sea `False`, la línea 29 se encarga simplemente de generar la lista de tickers."
   ]
  },
  {
   "cell_type": "markdown",
   "id": "c0b3f279-089a-41e9-99e5-728a62ab612e",
   "metadata": {},
   "source": [
    "Esta función proporciona una forma eficaz de obtener los componentes actuales del IPC de manera automática. Sin embargo, es importante tener en cuenta que el enlace al archivo de Excel puede cambiar cuando S&P actualiza el IPC (cada seis meses). Además, el formato del archivo de Excel también puede cambiar con el tiempo, lo que requerirá modificaciones en el código de formateo del DataFrame."
   ]
  },
  {
   "cell_type": "markdown",
   "id": "1658c9c3-fda3-4367-9dc4-ef10ec71e6db",
   "metadata": {},
   "source": [
    "### Ejecutar función ipc sin definir ningún argumento del parámetro `formato_yf`"
   ]
  },
  {
   "cell_type": "code",
   "execution_count": null,
   "id": "3e6e6c10-2a30-4e96-adc9-bdc166c54457",
   "metadata": {
    "tags": []
   },
   "outputs": [],
   "source": [
    "ipc()"
   ]
  },
  {
   "cell_type": "markdown",
   "id": "694efbfc-65be-40ec-a0c0-e948a61df3c1",
   "metadata": {},
   "source": [
    "### Ejecutar función ipc definiendo `True` al argumento del parámetro `formato_yf`"
   ]
  },
  {
   "cell_type": "code",
   "execution_count": null,
   "id": "6f1ab807-0881-4794-b2ae-37bd35a08b91",
   "metadata": {
    "tags": []
   },
   "outputs": [],
   "source": [
    "ipc(True)"
   ]
  },
  {
   "cell_type": "markdown",
   "id": "27dd637e-8c69-4597-9912-7a3e1935fd86",
   "metadata": {},
   "source": [
    "### Ejecutar función ipc definiendo `False` al argumento del parámetro `formato_yf`"
   ]
  },
  {
   "cell_type": "code",
   "execution_count": null,
   "id": "f76c2291-b065-49f3-9a15-ab09be05c1c3",
   "metadata": {},
   "outputs": [],
   "source": [
    "ipc(False)"
   ]
  },
  {
   "cell_type": "markdown",
   "id": "64c71159-2686-4d9b-81dd-d2b37e5a54fa",
   "metadata": {},
   "source": [
    "### Ejecutar función ipc definiendo un argumento erroneo del parámetro `formato_yf`"
   ]
  },
  {
   "cell_type": "code",
   "execution_count": null,
   "id": "9eb10105-61f8-45de-b7ec-b05ef5ad8d74",
   "metadata": {
    "tags": []
   },
   "outputs": [],
   "source": [
    "ipc('x')"
   ]
  },
  {
   "cell_type": "markdown",
   "id": "baee039d-7218-4f99-9a05-1f154c4e29bb",
   "metadata": {},
   "source": [
    "## Incluir la función ipc al archivo `herramientas_financieras`"
   ]
  },
  {
   "cell_type": "code",
   "execution_count": null,
   "id": "ac33cb73-b67f-43fa-b5c6-dd66a346aff9",
   "metadata": {
    "tags": []
   },
   "outputs": [],
   "source": [
    "%load_ext autoreload\n",
    "%autoreload 2"
   ]
  },
  {
   "cell_type": "code",
   "execution_count": null,
   "id": "1743e06a-bb80-457a-b691-06ffb045a565",
   "metadata": {
    "tags": []
   },
   "outputs": [],
   "source": [
    "from herramientas import herramientas_financieras as hf"
   ]
  },
  {
   "cell_type": "code",
   "execution_count": null,
   "id": "fb052a0b-011b-4983-9f5a-c66af49bee06",
   "metadata": {
    "tags": []
   },
   "outputs": [],
   "source": [
    "hf.ipc()"
   ]
  },
  {
   "cell_type": "markdown",
   "id": "637b1397-9441-4ab8-80e3-8726cf5ca355",
   "metadata": {},
   "source": [
    "Listo!  Ya tenemos nuestra función para obtener los componentes del IPC de manera automática."
   ]
  },
  {
   "cell_type": "code",
   "execution_count": null,
   "id": "2c0873e2-c737-44af-b4cd-a034990c1ff6",
   "metadata": {},
   "outputs": [],
   "source": []
  }
 ],
 "metadata": {
  "kernelspec": {
   "display_name": "Python 3 (ipykernel)",
   "language": "python",
   "name": "python3"
  },
  "language_info": {
   "codemirror_mode": {
    "name": "ipython",
    "version": 3
   },
   "file_extension": ".py",
   "mimetype": "text/x-python",
   "name": "python",
   "nbconvert_exporter": "python",
   "pygments_lexer": "ipython3",
   "version": "3.11.3"
  }
 },
 "nbformat": 4,
 "nbformat_minor": 5
}
