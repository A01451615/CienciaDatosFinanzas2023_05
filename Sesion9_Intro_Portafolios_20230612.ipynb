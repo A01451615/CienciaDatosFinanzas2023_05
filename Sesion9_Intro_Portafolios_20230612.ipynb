{
 "cells": [
  {
   "cell_type": "markdown",
   "id": "38a43386-239d-409e-a090-869a0aeea338",
   "metadata": {
    "tags": []
   },
   "source": [
    "# <font color='#2B17B0'>CIENCIA DE DATOS APLICADA A FINANZAS</font>\n",
    "Sesión 9, 2022-06-12<br>\n",
    "Carlos Crespo Elizondo<br>\n",
    "EGADE BUSINESS SCHOOL"
   ]
  },
  {
   "cell_type": "markdown",
   "id": "724eb429-402e-4f63-8b23-8f58d64a2b72",
   "metadata": {
    "tags": []
   },
   "source": [
    "# <font color='#2B17B0'>Intro Portafolios</font>"
   ]
  },
  {
   "cell_type": "code",
   "execution_count": null,
   "id": "2080dec9-b9b1-4b6c-8229-441e069765fc",
   "metadata": {
    "tags": []
   },
   "outputs": [],
   "source": [
    "from herramientas import herramientas_financieras as hf\n",
    "from matplotlib.patches import FancyArrow\n",
    "from matplotlib.patches import Circle\n",
    "import matplotlib.pyplot as plt\n",
    "import pandas as pd\n",
    "import numpy as np\n",
    "import itertools"
   ]
  },
  {
   "cell_type": "code",
   "execution_count": null,
   "id": "bee1a91b-bc68-480a-99a8-ea69cf954591",
   "metadata": {
    "tags": []
   },
   "outputs": [],
   "source": [
    "def mezcla_colores(peso, color1, color2):\n",
    "    # Descomponemos los colores en sus componentes R, G, B\n",
    "    componente1 = tuple(int(color1[i:i+2], 16)/255 for i in (0, 2, 4))\n",
    "    componente2 = tuple(int(color2[i:i+2], 16)/255 for i in (0, 2, 4))\n",
    "\n",
    "    # Calculamos la media ponderada de las componentes\n",
    "    color_mezclado = [(peso*componente1[i] + (1-peso)*componente2[i]) for i in range(3)]\n",
    "    \n",
    "    # Convertimos el color mezclado a formato hexadecimal\n",
    "    return '#{:02x}{:02x}{:02x}'.format(*(int(c*255) for c in color_mezclado))\n"
   ]
  },
  {
   "cell_type": "code",
   "execution_count": null,
   "id": "85d2efca-6d36-44ca-8007-5df7f33ae843",
   "metadata": {
    "tags": []
   },
   "outputs": [],
   "source": [
    "def portafolio(df_2activos, r, pocos=True):\n",
    "    \"\"\"\n",
    "    Cálculo vectorizado de los pesos, retornos y volatilidad\n",
    "    de un portafolio de 2 activos.\n",
    "    requiere un dataframe con los retornos y volatilidades\n",
    "    de cada uno de los activos y su correlación\n",
    "    \"\"\"\n",
    "    if pocos == True:\n",
    "        a = np.arange(0.0, 1.1, .1)\n",
    "    elif pocos == False:\n",
    "        a = np.arange(0.0, 1.01, .01)\n",
    "    df_ = pd.DataFrame()\n",
    "    df_['w_rojo'] = a\n",
    "    df_['w_azul'] = 1 - df_['w_rojo']\n",
    "    df_['retorno'] = (\n",
    "        df_2activos['rojo'].loc['ret'] * df_['w_rojo'] +\n",
    "        df_2activos['azul'].loc['ret'] * df_['w_azul']\n",
    "    )\n",
    "\n",
    "    df_['sigma'] = (\n",
    "        (df_2activos['rojo'].loc['sigma']**2)*(df_['w_rojo']**2) +\n",
    "        (df_2activos['azul'].loc['sigma']**2)*(df_['w_azul']**2) +\n",
    "        (2 * \n",
    "         df_['w_rojo'] * \n",
    "         df_['w_azul'] * \n",
    "         df_2activos['rojo'].loc['sigma'] * \n",
    "         df_2activos['azul'].loc['sigma'] *\n",
    "         r\n",
    "        ) \n",
    "    )**.5\n",
    "    \n",
    "    return df_"
   ]
  },
  {
   "cell_type": "code",
   "execution_count": null,
   "id": "7b2c40ed-b36c-45b5-81bb-a4645b9482ef",
   "metadata": {},
   "outputs": [],
   "source": [
    "def fig_2activos():\n",
    "    fig, ax = plt.subplots(figsize=(12,6))\n",
    "    ax.set_title('Gráfica de dos activos')\n",
    "\n",
    "    plt.xlabel('Riesgo', fontsize = 10)\n",
    "    plt.ylabel('Retorno', fontsize = 10)\n",
    "    # Limitar los ticks a unicamente los valores de ret y sigma en df_2activos:\n",
    "    plt.xticks(df_2activos.loc['sigma'])\n",
    "    plt.yticks(df_2activos.loc['ret'])\n",
    "\n",
    "    #lista de colores \n",
    "    list_color=['red', 'blue']\n",
    "    i = 0\n",
    "\n",
    "    \"\"\"\n",
    "    For loop para imprimir la ubicación de cada activo, asi como las líneas verticales y horizontales.\n",
    "    Para que las líneas sobrepasaran el punto le sume + .01 a la longitud de la líneas\n",
    "    Poner atención como cambia el color de acuerdo al contador 'i':\n",
    "    \"\"\"\n",
    "    for activo in df_2activos.columns:\n",
    "        ax.hlines(df_2activos[activo].loc['ret'], 0, df_2activos[activo].loc['sigma'] + .01, lw=.8, ls='--', color=list_color[i])\n",
    "        ax.vlines(df_2activos[activo].loc['sigma'], 0, df_2activos[activo].loc['ret'] + 0.01, lw=.8, ls='--', color=list_color[i])\n",
    "        plt.scatter(df_2activos[activo].loc['sigma'], df_2activos[activo].loc['ret'], marker = '.', s=1500, label= activo, color=list_color[i], alpha=.15)\n",
    "        plt.scatter(df_2activos[activo].loc['sigma'], df_2activos[activo].loc['ret'], marker = '.', s=300, label= activo, color=list_color[i])\n",
    "        i += 1\n",
    "\n",
    "    #Quitar las líneas del perímetro de la gráfica   \n",
    "    ax.spines['top'].set_visible(False)\n",
    "    ax.spines['right'].set_visible(False)\n",
    "    ax.spines['bottom'].set_visible(False)\n",
    "    ax.spines['left'].set_visible(False)\n",
    "\n",
    "    #Agregar flechas para el eje de las X's y Y's\n",
    "    arrow_x = FancyArrow(0, 0, .35, 0, head_width=0.005, head_length=0.006, fc='gray', ec='gray', linewidth=0.1)\n",
    "    arrow_y = FancyArrow(0, 0, 0, 0.15, head_width=0.005, head_length=0.006, fc='gray', ec='gray', linewidth=0.1)\n",
    "    ax.add_patch(arrow_x)\n",
    "    ax.add_patch(arrow_y);"
   ]
  },
  {
   "cell_type": "code",
   "execution_count": null,
   "id": "85c3759d-d9a4-42bd-893e-024adc1771fd",
   "metadata": {},
   "outputs": [],
   "source": [
    "def fig_pregunta():\n",
    "    fig, ax = plt.subplots(figsize=(12,6))\n",
    "    ax.set_title=('sdsd')\n",
    "\n",
    "    plt.xlabel('Riesgo', fontsize = 14)\n",
    "    plt.ylabel('Retorno', fontsize = 14)\n",
    "    # Limitar los ticks a unicamente los valores de ret y sigma en df_2activos:\n",
    "    plt.xticks(df_2activos.loc['sigma'])\n",
    "    plt.yticks(df_2activos.loc['ret'])\n",
    "\n",
    "    #lista de colores \n",
    "    list_color=['red', 'blue']\n",
    "    i = 0\n",
    "\n",
    "    \"\"\"\n",
    "    For loop para imprimir la ubicación de cada activo, asi como las líneas verticales y horizontales.\n",
    "    Para que las líneas sobrepasaran el punto le sume + .01 a la longitud de la líneas\n",
    "    Poner atención como cambia el color de acuerdo al contador 'i':\n",
    "    \"\"\"\n",
    "    for activo in df_2activos.columns:\n",
    "        ax.hlines(df_2activos[activo].loc['ret'], 0, df_2activos[activo].loc['sigma'] + .01, lw=.8, ls='--', color=list_color[i])\n",
    "        ax.vlines(df_2activos[activo].loc['sigma'], 0, df_2activos[activo].loc['ret'] + 0.01, lw=.8, ls='--', color=list_color[i])\n",
    "        plt.scatter(df_2activos[activo].loc['sigma'], df_2activos[activo].loc['ret'], marker = '.', s=1500, label= activo, color=list_color[i], alpha=.15)\n",
    "        plt.scatter(df_2activos[activo].loc['sigma'], df_2activos[activo].loc['ret'], marker = '.', s=300, label= activo, color=list_color[i])\n",
    "        i += 1\n",
    "\n",
    "    #Quitar las líneas del perímetro de la gráfica   \n",
    "    ax.spines['top'].set_visible(False)\n",
    "    ax.spines['right'].set_visible(False)\n",
    "    ax.spines['bottom'].set_visible(False)\n",
    "    ax.spines['left'].set_visible(False)\n",
    "\n",
    "    #Agregar flechas para el eje de las X's y Y's\n",
    "    arrow_x = FancyArrow(0, 0, .35, 0, head_width=0.005, head_length=0.006, fc='gray', ec='gray', linewidth=0.1)\n",
    "    arrow_y = FancyArrow(0, 0, 0, 0.15, head_width=0.005, head_length=0.006, fc='gray', ec='gray', linewidth=0.1)\n",
    "    ax.add_patch(arrow_x)\n",
    "    ax.add_patch(arrow_y)\n",
    "\n",
    "    ax.scatter(.25, .08, marker = '.', s=1500, label= activo, color='green', alpha=.15)\n",
    "    ax.scatter(.25, .08, marker = '.', s=300, label= activo, color='green')\n",
    "    ax.set_xticks([.2,.25,.3])\n",
    "    ax.set_yticks([.04, .08, .12])\n",
    "    ax.plot([.2 , .3], [.04, .12], lw=.8, ls='--', color='green')\n",
    "    ax.hlines(.08, 0, .25 + .01, lw=.8, ls='--', color='green')\n",
    "    ax.vlines(.25, 0, .08 + 0.01, lw=.8, ls='--', color='green')"
   ]
  },
  {
   "cell_type": "code",
   "execution_count": null,
   "id": "7223a4e4-56bb-4560-9c49-77b6032dc152",
   "metadata": {
    "tags": []
   },
   "outputs": [],
   "source": [
    "'''\n",
    "En esta función utilizo dos maneras diferentes de ir cambiando los colores de las figuras:\n",
    "1. De manera vectorizada con pandas\n",
    "2. A través de un for loop y de una variable incremental\n",
    "'''\n",
    "\n",
    "def fig_portafolio():\n",
    "        \n",
    "    rho = .1\n",
    "\n",
    "    df_portafolio2activos = portafolio(df_2activos, rho)\n",
    "    df_portafolio2activos['colores'] = df_portafolio2activos.apply(lambda row: mezcla_colores(row['w_rojo'], 'ff0000', '0018ff'), axis=1)\n",
    "\n",
    "    fig, ax = plt.subplots(figsize=(12,6))\n",
    "    ax.set_title('Portafolios con diferentes pesos en los activos \"Azul\" y \"Rojo\"; ' + r'$\\rho$' + f'={rho}')\n",
    "\n",
    "    plt.yticks([.04,.12])\n",
    "\n",
    "    ax.scatter(df_portafolio2activos['sigma'].iloc[1:-1], df_portafolio2activos['retorno'].iloc[1:-1], color=df_portafolio2activos['colores'].iloc[1:-1], s=100)\n",
    "\n",
    "    colores=['#ff0000', '#0018ff']\n",
    "\n",
    "    i = 0\n",
    "    for activo in df_2activos.columns:\n",
    "        plt.scatter(df_2activos[activo].loc['sigma'], df_2activos[activo].loc['ret'], marker = '.', s=1500, label= activo, color=colores[i], alpha=.15)\n",
    "        plt.scatter(df_2activos[activo].loc['sigma'], df_2activos[activo].loc['ret'], marker = '.', s=300, label= activo, color=colores[i])\n",
    "        i += 1\n",
    "\n",
    "    ax.set_xlabel('sigma')\n",
    "    ax.set_ylabel('retorno')\n",
    "\n",
    "    ax.spines['top'].set_visible(False)\n",
    "    ax.spines['right'].set_visible(False)\n",
    "    ax.spines['bottom'].set_visible(False)\n",
    "    ax.spines['left'].set_visible(False);\n"
   ]
  },
  {
   "cell_type": "code",
   "execution_count": null,
   "id": "dde6d4d1-664f-4d96-9924-541863d6ab39",
   "metadata": {
    "tags": []
   },
   "outputs": [],
   "source": [
    "\n",
    "def fig_port_dif_correlacion():\n",
    "    rho=.1\n",
    "    list_color = ['red', 'blue']\n",
    "\n",
    "    df_portafolio2activos = portafolio(df_2activos, rho)\n",
    "    list_rho = np.arange(0, 1.01, .1)\n",
    "    fig, ax = plt.subplots(figsize=(12,6))\n",
    "\n",
    "    for rho in list_rho:\n",
    "        df_portafolio2activos = portafolio(df_2activos, rho, False)\n",
    "        ax.plot(df_portafolio2activos['sigma'], df_portafolio2activos['retorno'], label=f'rho={rho:.1f}')\n",
    "\n",
    "    i = 0\n",
    "    for activo in df_2activos.columns:\n",
    "        plt.scatter(df_2activos[activo].loc['sigma'], df_2activos[activo].loc['ret'], marker = '.', s=1500, color=list_color[i], alpha=.15)\n",
    "        plt.scatter(df_2activos[activo].loc['sigma'], df_2activos[activo].loc['ret'], marker = '.', s=300, color=list_color[i],)\n",
    "        i += 1\n",
    "\n",
    "    ax.set_xlabel('sigma')\n",
    "    ax.set_ylabel('retorno')\n",
    "\n",
    "    ax.spines['top'].set_visible(False)\n",
    "    ax.spines['right'].set_visible(False)\n",
    "    ax.spines['bottom'].set_visible(False)\n",
    "    ax.spines['left'].set_visible(False)\n",
    "\n",
    "    ax.legend(frameon=False);"
   ]
  },
  {
   "cell_type": "markdown",
   "id": "a9488cd4-865b-4460-a20c-a8a6fc3d7907",
   "metadata": {
    "tags": []
   },
   "source": [
    "## <font color='#2B17B0'>Retornos y volatilidad de 2 activos</font>"
   ]
  },
  {
   "cell_type": "code",
   "execution_count": null,
   "id": "6a66d341-6822-4253-a1f0-9c0fddbd4fc6",
   "metadata": {
    "tags": []
   },
   "outputs": [],
   "source": [
    "df_2activos = pd.DataFrame({\n",
    "    \"rojo\":{'ret':.04, 'sigma':.2},\n",
    "    \"azul\":{'ret':.12, 'sigma':.3}})\n",
    "df_2activos"
   ]
  },
  {
   "cell_type": "code",
   "execution_count": null,
   "id": "6aea4c24-f796-4efd-9ea7-7b76f55a1253",
   "metadata": {
    "tags": []
   },
   "outputs": [],
   "source": [
    "fig_2activos()"
   ]
  },
  {
   "cell_type": "markdown",
   "id": "24b52dcf-9a59-49ac-be21-c8075fab1ba5",
   "metadata": {
    "tags": []
   },
   "source": [
    "### Portafolio compuesto por 50% <font color='blue'>activo azul</font> y 50% <font color='red'>activo rojo</font>"
   ]
  },
  {
   "cell_type": "code",
   "execution_count": null,
   "id": "35bf4b54-f560-4c2e-9b6b-ee0df96b6635",
   "metadata": {
    "tags": []
   },
   "outputs": [],
   "source": [
    "fig_pregunta()"
   ]
  },
  {
   "cell_type": "markdown",
   "id": "5d7f49c4-740d-427d-ac8c-3d3f1ca3d32b",
   "metadata": {},
   "source": [
    "### Cálculo del retorno de un portafolio de 2 activos"
   ]
  },
  {
   "cell_type": "markdown",
   "id": "e86bdb59-0bed-496e-929a-bba7db92ade4",
   "metadata": {},
   "source": [
    "$$\\Large R_{w_A, w_B}=w_A*R_A + w_B*R_B$$"
   ]
  },
  {
   "cell_type": "markdown",
   "id": "f764f537-c765-433d-93e1-8d1bdd817774",
   "metadata": {
    "tags": []
   },
   "source": [
    "### Cálculo de la volatilidad de un portafolio de 2 activos (fórmula teórica)"
   ]
  },
  {
   "cell_type": "markdown",
   "id": "cb9a72ce-589e-47e5-8217-a81afc2bc244",
   "metadata": {},
   "source": [
    "$$\\Large \\sigma^2_{w_A, w_B}=\\sigma^2_{A}w^2_{A}+\\sigma^2_{B}w^2_{B}+2w_Aw_B\\sigma_A\\sigma_B\\rho_{A,B}$$"
   ]
  },
  {
   "cell_type": "markdown",
   "id": "d961da82-754a-480d-8bb9-0eddcec501ef",
   "metadata": {},
   "source": [
    "$$\\Large \\sigma_{w_a, w_b}=\\sqrt{\\sigma^2_{w_A, w_B}}$$"
   ]
  },
  {
   "cell_type": "code",
   "execution_count": null,
   "id": "234d69c0-9c3d-4064-b2d1-65e0941e8184",
   "metadata": {
    "tags": []
   },
   "outputs": [],
   "source": [
    "fig_portafolio()"
   ]
  },
  {
   "cell_type": "code",
   "execution_count": null,
   "id": "aa531820-949d-4a1f-952a-2394fb67ad57",
   "metadata": {
    "tags": []
   },
   "outputs": [],
   "source": [
    "fig_port_dif_correlacion()"
   ]
  },
  {
   "cell_type": "code",
   "execution_count": null,
   "id": "3905036c-b68a-40de-b7a3-9435fee04ec8",
   "metadata": {},
   "outputs": [],
   "source": []
  }
 ],
 "metadata": {
  "kernelspec": {
   "display_name": "Python 3 (ipykernel)",
   "language": "python",
   "name": "python3"
  },
  "language_info": {
   "codemirror_mode": {
    "name": "ipython",
    "version": 3
   },
   "file_extension": ".py",
   "mimetype": "text/x-python",
   "name": "python",
   "nbconvert_exporter": "python",
   "pygments_lexer": "ipython3",
   "version": "3.11.3"
  }
 },
 "nbformat": 4,
 "nbformat_minor": 5
}
