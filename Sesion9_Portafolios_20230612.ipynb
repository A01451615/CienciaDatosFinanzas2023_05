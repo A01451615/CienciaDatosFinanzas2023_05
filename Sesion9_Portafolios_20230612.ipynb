{
 "cells": [
  {
   "cell_type": "markdown",
   "id": "fb4d5541-a87b-4279-a15c-3e592d8156b0",
   "metadata": {
    "tags": []
   },
   "source": [
    "# <font color='#2B17B0'>CIENCIA DE DATOS APLICADA A FINANZAS</font>\n",
    "Sesión 9, 2022-06-12<br>\n",
    "Carlos Crespo Elizondo<br>\n",
    "EGADE BUSINESS SCHOOL"
   ]
  },
  {
   "cell_type": "markdown",
   "id": "75e5b6f8-94e6-4114-aed3-3d0c292230d9",
   "metadata": {
    "tags": []
   },
   "source": [
    "# <font color='#2B17B0'>Portafolios de Inversión</font>"
   ]
  },
  {
   "cell_type": "markdown",
   "id": "fc6b0a5d-4cfe-4d68-84e5-9f9a95b32a14",
   "metadata": {
    "tags": []
   },
   "source": [
    "## <font color='#2B17B0'>Portafolios con Simulación Montecarlo</font>"
   ]
  },
  {
   "cell_type": "markdown",
   "id": "00cdda08-dd98-41cf-be70-77addfcba9dc",
   "metadata": {},
   "source": [
    "Para el desarrollo del primer portafolio de inversión, vamos a seguir los siguiente pasos:\n",
    "\n",
    "1. Importar librerías\n",
    "1. Importar precios de cierre\n",
    "1. Calcular retornos diarios y anuales\n",
    "1. Calcular $\\sigma$ diaria y anual\n",
    "1. Graficar dispersiones de los retornos anuales Vs $\\sigma$ anual\n",
    "1. Seleccionar de manera cuantitativa las acciones que formaran el portafolio (Sharp Ratio)\n",
    "1. Calcular matriz de covarianza  de las acciones seleccionadas\n",
    "1. Crear array NumPy para guardar los resultados de las simulaciones.\n",
    "1. Realizar simulación Monte Carlo\n",
    "1. Visualizar portafolio\n",
    "1. Visualizar resultados óptimos"
   ]
  },
  {
   "cell_type": "markdown",
   "id": "88f7b93e-dfa4-433b-9269-b331df681b2c",
   "metadata": {},
   "source": [
    "### <font color='royalblue'>1. Importar librerías</font>"
   ]
  },
  {
   "cell_type": "code",
   "execution_count": null,
   "id": "3c258b34-9824-4d81-aa8e-da1e9625d7c8",
   "metadata": {},
   "outputs": [],
   "source": []
  },
  {
   "cell_type": "markdown",
   "id": "4cadbea1-1ac4-4312-90c2-32cc6e4f1474",
   "metadata": {},
   "source": [
    "### <font color='royalblue'>2. Importar precios de cierre</font>"
   ]
  },
  {
   "cell_type": "code",
   "execution_count": null,
   "id": "0596a8ff-558e-4a2b-ae1b-85d56339adbb",
   "metadata": {},
   "outputs": [],
   "source": []
  },
  {
   "cell_type": "markdown",
   "id": "a7b518ca-03db-4ec4-92e5-133f9c13f0dc",
   "metadata": {
    "tags": []
   },
   "source": [
    "### <font color='royalblue'>3. Calcular retornos diarios y anuales</font>"
   ]
  },
  {
   "cell_type": "markdown",
   "id": "9039cc2a-8cea-4255-bdca-5e92b35fcd08",
   "metadata": {},
   "source": [
    "#### Retornos diarios"
   ]
  },
  {
   "cell_type": "code",
   "execution_count": null,
   "id": "2d31db3c-59c6-46bc-a604-38de39efe9d1",
   "metadata": {},
   "outputs": [],
   "source": []
  },
  {
   "cell_type": "markdown",
   "id": "0d0c8eaa-6fd6-42a5-a42a-6e552e856854",
   "metadata": {},
   "source": [
    "#### Retornos anualizados"
   ]
  },
  {
   "cell_type": "markdown",
   "id": "23c368e7-eb82-404c-85d0-1774a2444ad8",
   "metadata": {
    "tags": []
   },
   "source": [
    "### <font color='royalblue'>4. Calcular $\\sigma$ diaria y anual</font>"
   ]
  },
  {
   "cell_type": "code",
   "execution_count": null,
   "id": "e2e098d7-a1e0-40c6-83c5-a2fdfd1e2e4e",
   "metadata": {},
   "outputs": [],
   "source": []
  },
  {
   "cell_type": "markdown",
   "id": "96b3e327-cd82-4914-a321-c7e9a74459c6",
   "metadata": {},
   "source": [
    "#### Sigma anual"
   ]
  },
  {
   "cell_type": "markdown",
   "id": "bb404e5a-74de-4cd9-8e06-97ad02433d50",
   "metadata": {},
   "source": [
    "### <font color='royalblue'>5. Graficar dispersiones de los retornos anuales Vs $\\sigma$ anual</font>"
   ]
  },
  {
   "cell_type": "code",
   "execution_count": null,
   "id": "0df810b1-2674-471c-a362-2b34d4d66611",
   "metadata": {},
   "outputs": [],
   "source": []
  },
  {
   "cell_type": "markdown",
   "id": "6ec7f91f-5575-4633-ac4f-3d43ab226ab3",
   "metadata": {},
   "source": [
    "### <font color='royalblue'>6. Seleccionar de manera cuantitativa las acciones que formaran el portafolio</font>"
   ]
  },
  {
   "cell_type": "markdown",
   "id": "e60c0117-ac80-494d-b82a-f0e50af9e455",
   "metadata": {},
   "source": [
    "#### Sharpe Ratio\n",
    "El Sharp Ratio, mide el rendimiento adicional que genera un activo por encima de la tasa de retorno libre de riesgo, ajustado por su volatilidad.<br><br>\n",
    "$$SharpRatio = \\frac{r_x - r_f}{\\sigma_x}$$<br>\n",
    "Como tasa libre de riesgo utilizaremos CETES a 28 dias $\\approx11\\%$ anual."
   ]
  },
  {
   "cell_type": "code",
   "execution_count": null,
   "id": "abe2c530-1fee-4b29-9e1a-0f6ab4281201",
   "metadata": {},
   "outputs": [],
   "source": []
  },
  {
   "cell_type": "markdown",
   "id": "55ab2d22-be8a-4840-8068-ef109b8e7e23",
   "metadata": {
    "tags": []
   },
   "source": [
    "### <font color='royalblue'>7. Calcular matriz de covarianza  de las acciones seleccionadas</font>"
   ]
  },
  {
   "cell_type": "code",
   "execution_count": null,
   "id": "ce48e63c-9b24-4f2a-bc9e-7e24e67a6e83",
   "metadata": {},
   "outputs": [],
   "source": []
  },
  {
   "cell_type": "markdown",
   "id": "87048ae6-5a0c-4454-afbf-f7715bac3548",
   "metadata": {
    "tags": []
   },
   "source": [
    "### <font color='royalblue'>8. Crear array NumPy para guardar los resultados de las simulaciones</font>\n",
    "Incluir las siguientes columnas:\n",
    "1. \\# de simulación\n",
    "  1. Retorno generado\n",
    "  1. $\\sigma$ del portafolio\n",
    "  1. Sharp Ratio del portafolio\n",
    "  1. y el peso (w) de cada acción que forman el portafolio"
   ]
  },
  {
   "cell_type": "code",
   "execution_count": null,
   "id": "ec3cbf0e-9016-430d-85b2-11f0b660412e",
   "metadata": {},
   "outputs": [],
   "source": []
  },
  {
   "cell_type": "markdown",
   "id": "8475185f-13c1-4995-983b-b76b7a5f0ba2",
   "metadata": {
    "tags": []
   },
   "source": [
    "### <font color='royalblue'>9. Realizar simulación Monte Carlo</font>"
   ]
  },
  {
   "cell_type": "markdown",
   "id": "94573739-3a1b-4c5d-b76a-a1ca7e0c5704",
   "metadata": {
    "tags": []
   },
   "source": [
    "### <font color='gray'>Cálculo $E(R_p)$, $\\sigma^2$ de un portafolio</font>\n",
    "Para calcular el retorno de un portafolio de *\"n\"* activos:<br>\n",
    "$E(R_p) = \\displaystyle\\sum_{i=1}^{n}{w_iE(R_i)}\\implies Rw$<br><br>\n",
    "Para calcular la $\\sigma^2$ de un portafolio de dos activos -Recordar que la nombre como fórmula teórica-:<br>\n",
    "$\\sigma_p^2 = w_1^2\\sigma_1^2 + w_2^2\\sigma_2^2 + 2w_1w_2\\sigma_1\\sigma_2\\rho_{12}$<br><br>\n",
    "Recordememos que la fórmula de la correlación es:<br><br>\n",
    "$\\large\\rho=\\frac{Cov_{i,j}}{\\sigma_i \\sigma_j}$<br><br>\n",
    "Podemos simplificar la fórmula de la varianza eliminando sustituyendo la fórmula de la $\\rho$ y simplificándola a:<br><br>\n",
    "$\\sigma_p^2 = w_1^2\\sigma_1^2 + w_2^2\\sigma_2^2 + 2w_1w_2\\sigma_1\\sigma_2\\frac{Cov_{1,2}}{\\sigma_1 \\sigma_2}\\implies \\sigma_p^2 = w_1^2\\sigma_1^2 + w_2^2\\sigma_2^2 + 2w_1w_2\\sigma_{1,2}$<br><br>\n",
    "Para calcular la $\\sigma^2$ de un portafolio de *\"n\"* activos:<br>\n",
    "$$\n",
    "\\begin{array}{rcl}\n",
    "\\sigma_p^2 & = & \\displaystyle\\sum_{i=1}^{n} {w_i^2\\sigma_i^2} +  \\displaystyle\\sum_{i=1}^{n} \\displaystyle\\sum_{j\\neq i}^{n}w_iw_j\\sigma_i\\sigma_j\\rho_{ij}\\\\\n",
    "& = & \\displaystyle\\sum_{i=1}^{n} \\displaystyle\\sum_{j=i}^{n}w_iw_j\\sigma_{i,j}\\\\\n",
    "& = & w^T\\sum w \n",
    "\\end{array}\n",
    "$$\n",
    "Donde $\\sum$ es la matriz de varianza - covarianza"
   ]
  },
  {
   "cell_type": "code",
   "execution_count": null,
   "id": "678f764d-a160-442c-9c6b-10994efa1bdb",
   "metadata": {},
   "outputs": [],
   "source": []
  },
  {
   "cell_type": "markdown",
   "id": "4c80c6b2-62e3-4e3b-b881-940a881c0ba9",
   "metadata": {},
   "source": [
    "### <font color='gray'>Renombrar columnas</font>"
   ]
  },
  {
   "cell_type": "code",
   "execution_count": null,
   "id": "5b74366b-3bf7-4d98-9e27-4c18bcd2943b",
   "metadata": {},
   "outputs": [],
   "source": []
  },
  {
   "cell_type": "markdown",
   "id": "7c25582a-4966-4c11-91e4-fb8e92faab31",
   "metadata": {},
   "source": [
    "### <font color='gray'>Identificar portafolio con el máximo Sharp Ratio y el de mínima varianza </font>"
   ]
  },
  {
   "cell_type": "code",
   "execution_count": null,
   "id": "72283b50-8c9e-4cb0-aba7-e402b272f36f",
   "metadata": {},
   "outputs": [],
   "source": []
  },
  {
   "cell_type": "markdown",
   "id": "0f6241b2-3b41-45c9-a5db-11c923d5e7a6",
   "metadata": {},
   "source": [
    "Fórmula de la correlación:\n",
    "\n",
    "$\\Large\\rho=\\frac{Cov_{i,j}}{\\sigma_i*\\sigma_j}$"
   ]
  },
  {
   "cell_type": "markdown",
   "id": "a55ac377-f0f3-48b9-9f3a-fbb0ff5f5f16",
   "metadata": {
    "tags": []
   },
   "source": [
    "### <font color='royalblue'>10. Visualizar portafolio</font>"
   ]
  },
  {
   "cell_type": "code",
   "execution_count": null,
   "id": "284e423d-cc7b-491e-87b8-0eee6b91ef51",
   "metadata": {},
   "outputs": [],
   "source": []
  },
  {
   "cell_type": "markdown",
   "id": "1cc3e30c-bc2a-4e1b-bbd5-92076f56c955",
   "metadata": {
    "tags": []
   },
   "source": [
    "### <font color='royalblue'>11. Visualizar resultados óptimos</font>"
   ]
  },
  {
   "cell_type": "markdown",
   "id": "c617bf8f-ccb2-46d1-a52b-a1a9837ace51",
   "metadata": {
    "tags": []
   },
   "source": [
    "# <font color='#2B17B0'>Rumbo a la Frontera Eficiente</font>"
   ]
  },
  {
   "cell_type": "markdown",
   "id": "60b5e47c-720e-4efb-9c04-7cbddc3af709",
   "metadata": {
    "tags": []
   },
   "source": [
    "## <font color='royalblue'>Creación de funciones</font>"
   ]
  },
  {
   "cell_type": "markdown",
   "id": "cd5bb977-7a7e-47c3-92b7-4e68099ced2e",
   "metadata": {
    "tags": []
   },
   "source": [
    "## <font color='royalblue'>Minimizar</font>\n",
    "$$\n",
    "Minimizar: \\frac{1}{2}w^T\\sum w\n",
    "\\\\\n",
    "\\\\\n",
    "Sujeto~~a:\\\\\n",
    "w^TR=r_n\\\\\n",
    "w^T=1\\\\\n",
    "w\\geq0\n",
    "$$"
   ]
  },
  {
   "cell_type": "markdown",
   "id": "0e1a5af4-0a95-4676-ab76-7443bd9ee355",
   "metadata": {},
   "source": [
    "Minimizar la varianza es lo mismo que minimizar la mita de la varianza.\n",
    "> *NOTA:  Esto significa que si encontramos los pesos de los activos que minimizan la varianza, esos mismos pesos también minimizarán cualquier múltiplo positivo de la varianza. Por lo tanto, ya sea que minimicemos la varianza en sí o la mitad de la varianza, terminaremos con el mismo portafolio óptimo.*"
   ]
  },
  {
   "cell_type": "markdown",
   "id": "d3828d40-61e9-443c-9c9d-bf2d07b63226",
   "metadata": {},
   "source": [
    "### Función retorno:"
   ]
  },
  {
   "cell_type": "code",
   "execution_count": null,
   "id": "550efbd6-86d9-4694-b63e-b956918b2ce5",
   "metadata": {},
   "outputs": [],
   "source": []
  },
  {
   "cell_type": "markdown",
   "id": "b310ff26-c680-4b0a-a531-6a8f9b709b76",
   "metadata": {},
   "source": [
    "### Función volatilidad:"
   ]
  },
  {
   "cell_type": "code",
   "execution_count": null,
   "id": "bfa11231-b4cc-4e5d-b1ce-db8aaf6b38df",
   "metadata": {},
   "outputs": [],
   "source": []
  },
  {
   "cell_type": "markdown",
   "id": "942ed432-a201-49aa-97b9-848eb15d106d",
   "metadata": {},
   "source": [
    "### Función volatilidad:"
   ]
  },
  {
   "cell_type": "code",
   "execution_count": null,
   "id": "c189de1f-f9e8-41fc-b736-53617fe1ba13",
   "metadata": {},
   "outputs": [],
   "source": []
  },
  {
   "cell_type": "markdown",
   "id": "958926a4-738d-4497-86fc-e02044ec0b1a",
   "metadata": {},
   "source": [
    "### Frontera eficiente de 2 activos"
   ]
  },
  {
   "cell_type": "code",
   "execution_count": null,
   "id": "b23f9416-b106-49ef-8ba5-f3cccd206220",
   "metadata": {},
   "outputs": [],
   "source": []
  },
  {
   "cell_type": "markdown",
   "id": "3cd3261c-423b-4499-8a32-5c75d80c74b8",
   "metadata": {},
   "source": [
    "### Encontrar una secuencia de pesos"
   ]
  },
  {
   "cell_type": "code",
   "execution_count": null,
   "id": "285a3c66-7dd3-43cf-8511-0d9655047678",
   "metadata": {},
   "outputs": [],
   "source": []
  },
  {
   "cell_type": "markdown",
   "id": "141ab67b-0d49-4d14-affa-e52716fb7c1d",
   "metadata": {
    "tags": []
   },
   "source": [
    "### Encontrar los retornos en función a los pesos obtenidos"
   ]
  },
  {
   "cell_type": "code",
   "execution_count": null,
   "id": "77e695e2-a13a-41fa-9b4c-225c8574d2a3",
   "metadata": {},
   "outputs": [],
   "source": []
  },
  {
   "cell_type": "markdown",
   "id": "153a8fae-13d5-4bac-8683-8ad43351b4e7",
   "metadata": {
    "tags": []
   },
   "source": [
    "### Encontrar las volatilidades"
   ]
  },
  {
   "cell_type": "code",
   "execution_count": null,
   "id": "f48ab6f1-eddd-482d-9d8a-1cc2c7354cd8",
   "metadata": {},
   "outputs": [],
   "source": []
  },
  {
   "cell_type": "markdown",
   "id": "66e75ce9-c1da-46ca-be81-1a20853e7b7b",
   "metadata": {
    "tags": []
   },
   "source": [
    "#### <font color='royalblue'>Como generar los pesos</font>\n",
    "Para encontrar los pesos de los activos que nos den la minima volatilidad dado un retorno objetivo, necesitamos una función que encuentre los pesos que minimize $\\sigma$ dado un retorno objetivo."
   ]
  },
  {
   "cell_type": "code",
   "execution_count": null,
   "id": "045ef440-9ce8-4fd2-a964-869fd1dfa737",
   "metadata": {},
   "outputs": [],
   "source": []
  },
  {
   "cell_type": "markdown",
   "id": "186f4afb-dd62-43b6-9ea0-be6a72f76097",
   "metadata": {},
   "source": [
    "### Probar función\n",
    "Calculando ciertos precios"
   ]
  },
  {
   "cell_type": "code",
   "execution_count": null,
   "id": "be0de039-468d-4a81-aa6b-24f40d11cbe6",
   "metadata": {},
   "outputs": [],
   "source": []
  },
  {
   "cell_type": "markdown",
   "id": "543365ae-4dc4-4032-b9af-b66f00ffc069",
   "metadata": {
    "tags": []
   },
   "source": [
    "# NO HEMOS ACABADO"
   ]
  },
  {
   "cell_type": "markdown",
   "id": "3a9a362f-d59e-4626-ba24-9f8c12a1c673",
   "metadata": {},
   "source": []
  }
 ],
 "metadata": {
  "kernelspec": {
   "display_name": "Python 3 (ipykernel)",
   "language": "python",
   "name": "python3"
  },
  "language_info": {
   "codemirror_mode": {
    "name": "ipython",
    "version": 3
   },
   "file_extension": ".py",
   "mimetype": "text/x-python",
   "name": "python",
   "nbconvert_exporter": "python",
   "pygments_lexer": "ipython3",
   "version": "3.11.3"
  }
 },
 "nbformat": 4,
 "nbformat_minor": 5
}
